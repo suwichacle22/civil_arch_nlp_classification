{
 "cells": [
  {
   "cell_type": "markdown",
   "id": "c27a74db-a2a1-478b-b280-0df32dd60b8d",
   "metadata": {},
   "source": [
    "# Project 3: APIs, NLP, and Classification\n",
    "---"
   ]
  },
  {
   "cell_type": "markdown",
   "id": "4225a9d4-83a7-45c0-bc8c-c545c5205e60",
   "metadata": {},
   "source": [
    "# Part 1: Problem Statement\n",
    "---"
   ]
  },
  {
   "cell_type": "markdown",
   "id": "63e5c10d-02a0-4262-ad8f-29ea7af78eee",
   "metadata": {},
   "source": [
    "## 1.1 Problem Statement"
   ]
  },
  {
   "cell_type": "markdown",
   "id": "cc461408-32ca-4732-aedc-881f0dc0f2cc",
   "metadata": {},
   "source": [
    "problem\n",
    "ปัญหาจากฝ่ายประสานงานที่ไม่เข้าใจใบสั่งงานที่ไม่ระบุว่าฝั่งสถาปนิกหรือวิศวะโยธาทำงาน จึงมีการสร้าง Model ขึ้นมาเพื่อใช้งาน"
   ]
  },
  {
   "cell_type": "markdown",
   "id": "511bfb40-806e-4584-8cc2-2601083ecfad",
   "metadata": {},
   "source": [
    "## 1.2 BackGround"
   ]
  },
  {
   "cell_type": "markdown",
   "id": "14e686eb-ca3b-4afd-b1a8-c4cf50f4df95",
   "metadata": {},
   "source": [
    "new company"
   ]
  },
  {
   "cell_type": "markdown",
   "id": "c9093963-8826-4ec6-bdfd-bbcc5d382c46",
   "metadata": {},
   "source": [
    "## 1.3 Outside Research"
   ]
  },
  {
   "cell_type": "markdown",
   "id": "6d3afb20-a589-47f8-9256-ad95431be9be",
   "metadata": {},
   "source": [
    "1. For architects are responsible for the design and planning of structures ranging from houses and factories to skyscrapers and museums, civil engineers oversee the entire design-to-completion process for buildings, roads, dams, bridges, water systems, etc. [source](https://online.lsu.edu/newsroom/articles/building-future-architecture-vs-civil-engineering/#:~:text=While%20architects%20are%20responsible%20for,systems%2C%20and%20other%20major%20works.)<br>\n",
    "2. civil engineering and architecture are two very different beasts, and collaborating is not always smooth. Civil engineers are generally used to a linear process in which they produce calculations, make decisions, and present solutions. But when working with architects, this process tends to zigzag a little more. [source](https://www.engineering.com/story/in-a-great-civil-engineerarchitect-relationship-conflict-breeds-creativity)"
   ]
  },
  {
   "cell_type": "markdown",
   "id": "2ddb29ef-9b06-4444-a0c0-07c21224e59c",
   "metadata": {},
   "source": [
    "# Part 2: Data Wrangling\n",
    "---"
   ]
  },
  {
   "cell_type": "markdown",
   "id": "256c57c5-ca1a-4389-a48d-051a7b34cab4",
   "metadata": {},
   "source": [
    "For Data Gatering from reddit using api code show in **[Data Gathering](data_gathering.ipynb)** "
   ]
  },
  {
   "cell_type": "markdown",
   "id": "3355df2f-d259-4822-9666-eba877623cb7",
   "metadata": {},
   "source": [
    "## 2.1 Import Package and Data"
   ]
  },
  {
   "cell_type": "code",
   "execution_count": 164,
   "id": "18437245-be80-4458-ba5f-5e43f36aa981",
   "metadata": {},
   "outputs": [],
   "source": [
    "# import package\n",
    "import pandas as pd\n",
    "import numpy as np\n",
    "import matplotlib.pyplot as plt\n",
    "import seaborn as sns\n",
    "\n",
    "# import sklearn\n",
    "from sklearn.model_selection import train_test_split, GridSearchCV\n",
    "from sklearn.feature_extraction.text import CountVectorizer, TfidfVectorizer\n",
    "from sklearn.linear_model import LogisticRegression\n",
    "from sklearn.pipeline import Pipeline\n",
    "from sklearn.metrics import confusion_matrix, ConfusionMatrixDisplay, f1_score\n",
    "from sklearn.naive_bayes import MultinomialNB\n",
    "from sklearn.ensemble import RandomForestClassifier\n",
    "\n",
    "# import nltk and regex for working with text\n",
    "from nltk.tokenize import word_tokenize\n",
    "from nltk.stem import WordNetLemmatizer\n",
    "from nltk.stem.porter import PorterStemmer\n",
    "from nltk.corpus import stopwords\n",
    "import re\n"
   ]
  },
  {
   "cell_type": "code",
   "execution_count": 89,
   "id": "fb2eaced-be81-4cae-a34e-cd8bfbae740b",
   "metadata": {},
   "outputs": [],
   "source": [
    "# import warnings for ignore future warning and user warning\n",
    "import warnings\n",
    "warnings.filterwarnings('ignore')"
   ]
  },
  {
   "cell_type": "code",
   "execution_count": 90,
   "id": "4b640e1c-14fa-4610-a3e5-2f8aa49f8c61",
   "metadata": {},
   "outputs": [],
   "source": [
    "# import dataset\n",
    "corpus = pd.read_csv('../data/civil_arch_corpus.csv')"
   ]
  },
  {
   "cell_type": "code",
   "execution_count": 91,
   "id": "4141c5a2-42cc-4b0f-9f4c-f693f9acfde2",
   "metadata": {},
   "outputs": [
    {
     "data": {
      "text/html": [
       "<div>\n",
       "<style scoped>\n",
       "    .dataframe tbody tr th:only-of-type {\n",
       "        vertical-align: middle;\n",
       "    }\n",
       "\n",
       "    .dataframe tbody tr th {\n",
       "        vertical-align: top;\n",
       "    }\n",
       "\n",
       "    .dataframe thead th {\n",
       "        text-align: right;\n",
       "    }\n",
       "</style>\n",
       "<table border=\"1\" class=\"dataframe\">\n",
       "  <thead>\n",
       "    <tr style=\"text-align: right;\">\n",
       "      <th></th>\n",
       "      <th>approved_at_utc</th>\n",
       "      <th>subreddit</th>\n",
       "      <th>selftext</th>\n",
       "      <th>author_fullname</th>\n",
       "      <th>saved</th>\n",
       "      <th>mod_reason_title</th>\n",
       "      <th>gilded</th>\n",
       "      <th>clicked</th>\n",
       "      <th>title</th>\n",
       "      <th>link_flair_richtext</th>\n",
       "      <th>...</th>\n",
       "      <th>is_gallery</th>\n",
       "      <th>gallery_data</th>\n",
       "      <th>author_cakeday</th>\n",
       "      <th>call_to_action</th>\n",
       "      <th>poll_data</th>\n",
       "      <th>thumbnail_height</th>\n",
       "      <th>thumbnail_width</th>\n",
       "      <th>post_hint</th>\n",
       "      <th>preview</th>\n",
       "      <th>link_flair_template_id</th>\n",
       "    </tr>\n",
       "  </thead>\n",
       "  <tbody>\n",
       "    <tr>\n",
       "      <th>0</th>\n",
       "      <td>NaN</td>\n",
       "      <td>civilengineering</td>\n",
       "      <td>NaN</td>\n",
       "      <td>t2_ex0xi</td>\n",
       "      <td>False</td>\n",
       "      <td>NaN</td>\n",
       "      <td>0</td>\n",
       "      <td>False</td>\n",
       "      <td>2022 Civil Engineering Salary Survey</td>\n",
       "      <td>[]</td>\n",
       "      <td>...</td>\n",
       "      <td>NaN</td>\n",
       "      <td>NaN</td>\n",
       "      <td>NaN</td>\n",
       "      <td>NaN</td>\n",
       "      <td>NaN</td>\n",
       "      <td>NaN</td>\n",
       "      <td>NaN</td>\n",
       "      <td>NaN</td>\n",
       "      <td>NaN</td>\n",
       "      <td>NaN</td>\n",
       "    </tr>\n",
       "    <tr>\n",
       "      <th>1</th>\n",
       "      <td>NaN</td>\n",
       "      <td>civilengineering</td>\n",
       "      <td>Post them below. Please include education, exp...</td>\n",
       "      <td>t2_6l4z3</td>\n",
       "      <td>False</td>\n",
       "      <td>NaN</td>\n",
       "      <td>0</td>\n",
       "      <td>False</td>\n",
       "      <td>Monthly Jobs Thread</td>\n",
       "      <td>[]</td>\n",
       "      <td>...</td>\n",
       "      <td>NaN</td>\n",
       "      <td>NaN</td>\n",
       "      <td>NaN</td>\n",
       "      <td>NaN</td>\n",
       "      <td>NaN</td>\n",
       "      <td>NaN</td>\n",
       "      <td>NaN</td>\n",
       "      <td>NaN</td>\n",
       "      <td>NaN</td>\n",
       "      <td>NaN</td>\n",
       "    </tr>\n",
       "    <tr>\n",
       "      <th>2</th>\n",
       "      <td>NaN</td>\n",
       "      <td>civilengineering</td>\n",
       "      <td>NaN</td>\n",
       "      <td>t2_3dmpwcyo</td>\n",
       "      <td>False</td>\n",
       "      <td>NaN</td>\n",
       "      <td>0</td>\n",
       "      <td>False</td>\n",
       "      <td>Not going to miss being up at 3:30 to test 100...</td>\n",
       "      <td>[]</td>\n",
       "      <td>...</td>\n",
       "      <td>NaN</td>\n",
       "      <td>NaN</td>\n",
       "      <td>NaN</td>\n",
       "      <td>NaN</td>\n",
       "      <td>NaN</td>\n",
       "      <td>NaN</td>\n",
       "      <td>NaN</td>\n",
       "      <td>NaN</td>\n",
       "      <td>NaN</td>\n",
       "      <td>NaN</td>\n",
       "    </tr>\n",
       "    <tr>\n",
       "      <th>3</th>\n",
       "      <td>NaN</td>\n",
       "      <td>civilengineering</td>\n",
       "      <td>NaN</td>\n",
       "      <td>t2_166hoc</td>\n",
       "      <td>False</td>\n",
       "      <td>NaN</td>\n",
       "      <td>0</td>\n",
       "      <td>False</td>\n",
       "      <td>Lack of flood insurance in hard-hit Central Fl...</td>\n",
       "      <td>[]</td>\n",
       "      <td>...</td>\n",
       "      <td>NaN</td>\n",
       "      <td>NaN</td>\n",
       "      <td>NaN</td>\n",
       "      <td>NaN</td>\n",
       "      <td>NaN</td>\n",
       "      <td>NaN</td>\n",
       "      <td>NaN</td>\n",
       "      <td>NaN</td>\n",
       "      <td>NaN</td>\n",
       "      <td>NaN</td>\n",
       "    </tr>\n",
       "    <tr>\n",
       "      <th>4</th>\n",
       "      <td>NaN</td>\n",
       "      <td>civilengineering</td>\n",
       "      <td>So I'm a new inspector and contractor's concre...</td>\n",
       "      <td>t2_12zsk2</td>\n",
       "      <td>False</td>\n",
       "      <td>NaN</td>\n",
       "      <td>0</td>\n",
       "      <td>False</td>\n",
       "      <td>Reliability of Rebound Hammer Test</td>\n",
       "      <td>[]</td>\n",
       "      <td>...</td>\n",
       "      <td>NaN</td>\n",
       "      <td>NaN</td>\n",
       "      <td>NaN</td>\n",
       "      <td>NaN</td>\n",
       "      <td>NaN</td>\n",
       "      <td>NaN</td>\n",
       "      <td>NaN</td>\n",
       "      <td>NaN</td>\n",
       "      <td>NaN</td>\n",
       "      <td>NaN</td>\n",
       "    </tr>\n",
       "  </tbody>\n",
       "</table>\n",
       "<p>5 rows × 118 columns</p>\n",
       "</div>"
      ],
      "text/plain": [
       "   approved_at_utc         subreddit  \\\n",
       "0              NaN  civilengineering   \n",
       "1              NaN  civilengineering   \n",
       "2              NaN  civilengineering   \n",
       "3              NaN  civilengineering   \n",
       "4              NaN  civilengineering   \n",
       "\n",
       "                                            selftext author_fullname  saved  \\\n",
       "0                                                NaN        t2_ex0xi  False   \n",
       "1  Post them below. Please include education, exp...        t2_6l4z3  False   \n",
       "2                                                NaN     t2_3dmpwcyo  False   \n",
       "3                                                NaN       t2_166hoc  False   \n",
       "4  So I'm a new inspector and contractor's concre...       t2_12zsk2  False   \n",
       "\n",
       "   mod_reason_title  gilded  clicked  \\\n",
       "0               NaN       0    False   \n",
       "1               NaN       0    False   \n",
       "2               NaN       0    False   \n",
       "3               NaN       0    False   \n",
       "4               NaN       0    False   \n",
       "\n",
       "                                               title link_flair_richtext  ...  \\\n",
       "0               2022 Civil Engineering Salary Survey                  []  ...   \n",
       "1                                Monthly Jobs Thread                  []  ...   \n",
       "2  Not going to miss being up at 3:30 to test 100...                  []  ...   \n",
       "3  Lack of flood insurance in hard-hit Central Fl...                  []  ...   \n",
       "4                 Reliability of Rebound Hammer Test                  []  ...   \n",
       "\n",
       "  is_gallery  gallery_data  author_cakeday call_to_action  poll_data  \\\n",
       "0        NaN           NaN             NaN            NaN        NaN   \n",
       "1        NaN           NaN             NaN            NaN        NaN   \n",
       "2        NaN           NaN             NaN            NaN        NaN   \n",
       "3        NaN           NaN             NaN            NaN        NaN   \n",
       "4        NaN           NaN             NaN            NaN        NaN   \n",
       "\n",
       "   thumbnail_height  thumbnail_width post_hint  preview link_flair_template_id  \n",
       "0               NaN              NaN       NaN      NaN                    NaN  \n",
       "1               NaN              NaN       NaN      NaN                    NaN  \n",
       "2               NaN              NaN       NaN      NaN                    NaN  \n",
       "3               NaN              NaN       NaN      NaN                    NaN  \n",
       "4               NaN              NaN       NaN      NaN                    NaN  \n",
       "\n",
       "[5 rows x 118 columns]"
      ]
     },
     "execution_count": 91,
     "metadata": {},
     "output_type": "execute_result"
    }
   ],
   "source": [
    "# display corpus 5 documents\n",
    "corpus.head()"
   ]
  },
  {
   "cell_type": "code",
   "execution_count": 92,
   "id": "30b28ad7-b185-4319-8cd9-0dc739f985da",
   "metadata": {},
   "outputs": [
    {
     "data": {
      "text/plain": [
       "(1889, 118)"
      ]
     },
     "execution_count": 92,
     "metadata": {},
     "output_type": "execute_result"
    }
   ],
   "source": [
    "# check rows and columns\n",
    "corpus.shape"
   ]
  },
  {
   "cell_type": "code",
   "execution_count": 93,
   "id": "9234c185-ecb0-426d-9754-2442408e4e2b",
   "metadata": {},
   "outputs": [
    {
     "data": {
      "text/plain": [
       "0"
      ]
     },
     "execution_count": 93,
     "metadata": {},
     "output_type": "execute_result"
    }
   ],
   "source": [
    "# check missing values in title columns\n",
    "corpus['title'].isna().sum()"
   ]
  },
  {
   "cell_type": "code",
   "execution_count": 94,
   "id": "f5259243-77ae-42b6-8348-9b250ac64bdf",
   "metadata": {},
   "outputs": [
    {
     "data": {
      "text/html": [
       "<div>\n",
       "<style scoped>\n",
       "    .dataframe tbody tr th:only-of-type {\n",
       "        vertical-align: middle;\n",
       "    }\n",
       "\n",
       "    .dataframe tbody tr th {\n",
       "        vertical-align: top;\n",
       "    }\n",
       "\n",
       "    .dataframe thead th {\n",
       "        text-align: right;\n",
       "    }\n",
       "</style>\n",
       "<table border=\"1\" class=\"dataframe\">\n",
       "  <thead>\n",
       "    <tr style=\"text-align: right;\">\n",
       "      <th></th>\n",
       "      <th>subreddit</th>\n",
       "      <th>title</th>\n",
       "    </tr>\n",
       "  </thead>\n",
       "  <tbody>\n",
       "    <tr>\n",
       "      <th>0</th>\n",
       "      <td>civilengineering</td>\n",
       "      <td>2022 Civil Engineering Salary Survey</td>\n",
       "    </tr>\n",
       "    <tr>\n",
       "      <th>1</th>\n",
       "      <td>civilengineering</td>\n",
       "      <td>Monthly Jobs Thread</td>\n",
       "    </tr>\n",
       "    <tr>\n",
       "      <th>2</th>\n",
       "      <td>civilengineering</td>\n",
       "      <td>Not going to miss being up at 3:30 to test 100...</td>\n",
       "    </tr>\n",
       "    <tr>\n",
       "      <th>3</th>\n",
       "      <td>civilengineering</td>\n",
       "      <td>Lack of flood insurance in hard-hit Central Fl...</td>\n",
       "    </tr>\n",
       "    <tr>\n",
       "      <th>4</th>\n",
       "      <td>civilengineering</td>\n",
       "      <td>Reliability of Rebound Hammer Test</td>\n",
       "    </tr>\n",
       "    <tr>\n",
       "      <th>...</th>\n",
       "      <td>...</td>\n",
       "      <td>...</td>\n",
       "    </tr>\n",
       "    <tr>\n",
       "      <th>1884</th>\n",
       "      <td>architecture</td>\n",
       "      <td>Name of a sustainable structure (related with ...</td>\n",
       "    </tr>\n",
       "    <tr>\n",
       "      <th>1885</th>\n",
       "      <td>architecture</td>\n",
       "      <td>Help me find my purpose in architecture</td>\n",
       "    </tr>\n",
       "    <tr>\n",
       "      <th>1886</th>\n",
       "      <td>architecture</td>\n",
       "      <td>how hard are the school?</td>\n",
       "    </tr>\n",
       "    <tr>\n",
       "      <th>1887</th>\n",
       "      <td>architecture</td>\n",
       "      <td>cottage study with watercolor</td>\n",
       "    </tr>\n",
       "    <tr>\n",
       "      <th>1888</th>\n",
       "      <td>architecture</td>\n",
       "      <td>Modernist Vs Classical from his POV</td>\n",
       "    </tr>\n",
       "  </tbody>\n",
       "</table>\n",
       "<p>1889 rows × 2 columns</p>\n",
       "</div>"
      ],
      "text/plain": [
       "             subreddit                                              title\n",
       "0     civilengineering               2022 Civil Engineering Salary Survey\n",
       "1     civilengineering                                Monthly Jobs Thread\n",
       "2     civilengineering  Not going to miss being up at 3:30 to test 100...\n",
       "3     civilengineering  Lack of flood insurance in hard-hit Central Fl...\n",
       "4     civilengineering                 Reliability of Rebound Hammer Test\n",
       "...                ...                                                ...\n",
       "1884      architecture  Name of a sustainable structure (related with ...\n",
       "1885      architecture            Help me find my purpose in architecture\n",
       "1886      architecture                           how hard are the school?\n",
       "1887      architecture                      cottage study with watercolor\n",
       "1888      architecture                Modernist Vs Classical from his POV\n",
       "\n",
       "[1889 rows x 2 columns]"
      ]
     },
     "execution_count": 94,
     "metadata": {},
     "output_type": "execute_result"
    }
   ],
   "source": [
    "# create two corpus which store only title and title plus selftext\n",
    "corpus_title = corpus[['subreddit', 'title']]\n",
    "corpus_title.reset_index(drop=True)"
   ]
  },
  {
   "cell_type": "markdown",
   "id": "26f46aab-5e53-4912-a725-a3bd8b5bf15c",
   "metadata": {},
   "source": [
    "# Part 3: EDA\n",
    "---"
   ]
  },
  {
   "cell_type": "markdown",
   "id": "c17970e5-89c9-42b0-b76f-b400168e91e6",
   "metadata": {},
   "source": [
    "Exploratory data analysis in corpus that store only title "
   ]
  },
  {
   "cell_type": "markdown",
   "id": "1257b914-6ad2-433f-ab1b-325eccaa00b8",
   "metadata": {},
   "source": [
    "## Count length in title"
   ]
  },
  {
   "cell_type": "code",
   "execution_count": 95,
   "id": "5cda0931-5b5c-4b03-bc5e-75a869ea5d64",
   "metadata": {},
   "outputs": [],
   "source": [
    "# count lenhth in title and store in length column\n",
    "corpus_title['length'] = corpus_title['title'].apply(len)"
   ]
  },
  {
   "cell_type": "code",
   "execution_count": 96,
   "id": "de77269e-4050-4288-80a0-586b9166b345",
   "metadata": {},
   "outputs": [
    {
     "data": {
      "image/png": "[encoded data removed]",
      "text/plain": [
       "<Figure size 1000x500 with 1 Axes>"
      ]
     },
     "metadata": {},
     "output_type": "display_data"
    }
   ],
   "source": [
    "# check length distribution\n",
    "plt.figure(figsize=(10, 5))\n",
    "sns.histplot(x='length', hue='subreddit', element='step', bins=100, data=corpus_title)\n",
    "plt.title('Length Distribution in Title between Subreddit', size=16);"
   ]
  },
  {
   "cell_type": "markdown",
   "id": "3972b887-5cea-46c0-a370-7944abb4c5ee",
   "metadata": {},
   "source": [
    "From title length Distribution chart, Civil Engineering and Architecture Distribution are not different between each other. <br>"
   ]
  },
  {
   "cell_type": "code",
   "execution_count": 97,
   "id": "7a59a461-d851-4fda-a91a-d5cb566c2c80",
   "metadata": {},
   "outputs": [],
   "source": [
    "# Create Class stemtokenizer for stem words\n",
    "class StemTokenizer:\n",
    "    def __init__(self):\n",
    "        self.wnl = PorterStemmer()\n",
    "    def __call__(self, doc):\n",
    "        regex_num_ponctuation = '(\\d+)|([^\\w\\s])'\n",
    "        regex_little_words = r'(\\b\\w{1,2}\\b)'\n",
    "        return [self.wnl.stem(t) for t in word_tokenize(doc) \n",
    "                if not re.search(regex_num_ponctuation, t) and not re.search(regex_little_words, t)]"
   ]
  },
  {
   "cell_type": "code",
   "execution_count": 98,
   "id": "92ddac02-bf4a-4bda-afb8-27b4b027163e",
   "metadata": {},
   "outputs": [],
   "source": [
    "# Create Class lemmatizer for lemmatize words\n",
    "class LemmaTokenizer:\n",
    "    def __init__(self):\n",
    "        self.wnl = WordNetLemmatizer()\n",
    "    def __call__(self, doc):\n",
    "        regex_num_ponctuation = '(\\d+)|([^\\w\\s])'\n",
    "        regex_little_words = r'(\\b\\w{1,2}\\b)'\n",
    "        return [self.wnl.lemmatize(t) for t in word_tokenize(doc) \n",
    "                if not re.search(regex_num_ponctuation, t) and not re.search(regex_little_words, t)]"
   ]
  },
  {
   "cell_type": "code",
   "execution_count": 99,
   "id": "1e34ed12-8385-4ac9-a252-0f22c1424999",
   "metadata": {},
   "outputs": [],
   "source": [
    "# create function for transform text to bag of words and return dataframe\n",
    "def count_word(data, subreddit, feature, stop_word=None, ngram=(1, 1), method='cv', tokenizer=None):\n",
    "    '''\n",
    "    parameter\n",
    "    '''\n",
    "    if method == 'cv':\n",
    "        cvec = CountVectorizer(stop_words=stop_word, ngram_range=ngram, tokenizer=tokenizer)\n",
    "        cvec_title = cvec.fit_transform(data[data['subreddit']==subreddit][feature])\n",
    "        cvec_title_df = pd.DataFrame(cvec_title.todense(), columns=cvec.get_feature_names_out())\n",
    "        return cvec_title_df\n",
    "    elif method == 'tfidf':\n",
    "        tvec = TfidfVectorizer(stop_words=stop_word, ngram_range=ngram, tokenizer=tokenizer)\n",
    "        tvec_title = tvec.fit_transform(data[data['subreddit']==subreddit][feature])\n",
    "        tvec_title_df = pd.DataFrame(tvec_title.todensese(), columns=tvec.get_feature_names_out())\n",
    "        return tvec_title_df"
   ]
  },
  {
   "cell_type": "code",
   "execution_count": 100,
   "id": "0825ed92-5554-4ebb-8fcb-e70dd1481d1c",
   "metadata": {},
   "outputs": [],
   "source": [
    "# create function for search words that appear in dataset\n",
    "def find_word(data, col, word, subreddit=None):\n",
    "    if subreddit == None:\n",
    "        doc = data[data[col].str.contains(word, case=False, regex=False)][col]\n",
    "        return doc\n",
    "    else:\n",
    "        doc = data[(data['subreddit'] == subreddit) & (data[col].str.contains(word, case=False, regex=False))][col]\n",
    "        return doc"
   ]
  },
  {
   "cell_type": "code",
   "execution_count": 101,
   "id": "500cf3a6-249c-4c80-96ab-fdd124b9f6f7",
   "metadata": {},
   "outputs": [
    {
     "data": {
      "text/plain": [
       "civilengineering    52.46\n",
       "architecture        47.54\n",
       "Name: subreddit, dtype: float64"
      ]
     },
     "execution_count": 101,
     "metadata": {},
     "output_type": "execute_result"
    }
   ],
   "source": [
    "# count values of civil and arch \n",
    "corpus_title['subreddit'].value_counts(normalize=True).mul(100).round(2)"
   ]
  },
  {
   "cell_type": "markdown",
   "id": "2c7ed70b-f5ce-41ad-ba46-b82e5293ec57",
   "metadata": {},
   "source": [
    "## Not use stop words"
   ]
  },
  {
   "cell_type": "code",
   "execution_count": 102,
   "id": "61d75424-6d50-416f-8b3d-ca0dc64af28c",
   "metadata": {},
   "outputs": [
    {
     "data": {
      "text/plain": [
       "to             212\n",
       "for            191\n",
       "in             187\n",
       "the            187\n",
       "civil          148\n",
       "and            130\n",
       "engineering    127\n",
       "of             121\n",
       "is             113\n",
       "what           110\n",
       "dtype: int64"
      ]
     },
     "execution_count": 102,
     "metadata": {},
     "output_type": "execute_result"
    }
   ],
   "source": [
    "# transform text in civil label to bag of words\n",
    "count_word(corpus_title, 'civilengineering', 'title').sum().sort_values(ascending=False).head(10)"
   ]
  },
  {
   "cell_type": "code",
   "execution_count": 103,
   "id": "9046d40f-a89b-4170-8a5c-dfa48628445d",
   "metadata": {},
   "outputs": [
    {
     "data": {
      "text/plain": [
       "the             321\n",
       "in              248\n",
       "of              227\n",
       "to              184\n",
       "this            150\n",
       "and             143\n",
       "for             143\n",
       "what            135\n",
       "is              129\n",
       "architecture    117\n",
       "dtype: int64"
      ]
     },
     "execution_count": 103,
     "metadata": {},
     "output_type": "execute_result"
    }
   ],
   "source": [
    "# transform text in arch label to bag of words\n",
    "count_word(corpus_title, 'architecture', 'title').sum().sort_values(ascending=False).head(10)"
   ]
  },
  {
   "cell_type": "markdown",
   "id": "462bd94d-ffda-4c52-a588-697f2f03d4b8",
   "metadata": {},
   "source": [
    "stop words appear a lot in 2 datasets "
   ]
  },
  {
   "cell_type": "markdown",
   "id": "578b0383-923a-4f85-aca7-b0d6a3267642",
   "metadata": {},
   "source": [
    "## Remove stop words"
   ]
  },
  {
   "cell_type": "markdown",
   "id": "ef2ba90a-edf1-44ee-9986-82d5471d2fae",
   "metadata": {},
   "source": [
    "### Civil Engineering"
   ]
  },
  {
   "cell_type": "code",
   "execution_count": 104,
   "id": "5f0ba4cf-b952-4098-a806-4e52db897153",
   "metadata": {},
   "outputs": [
    {
     "data": {
      "text/plain": [
       "civil           148\n",
       "engineering     127\n",
       "engineer         60\n",
       "advice           52\n",
       "work             45\n",
       "job              42\n",
       "bridge           36\n",
       "pe               36\n",
       "help             34\n",
       "engineers        33\n",
       "does             33\n",
       "question         32\n",
       "construction     31\n",
       "need             29\n",
       "design           27\n",
       "student          26\n",
       "concrete         24\n",
       "structural       24\n",
       "project          24\n",
       "company          23\n",
       "like             23\n",
       "vs               22\n",
       "water            22\n",
       "year             22\n",
       "new              21\n",
       "dtype: int64"
      ]
     },
     "execution_count": 104,
     "metadata": {},
     "output_type": "execute_result"
    }
   ],
   "source": [
    "# transform text in civil label to bag of words and remove stop words\n",
    "count_word(corpus_title, 'civilengineering', 'title', stop_word='english').sum().sort_values(ascending=False).head(25)"
   ]
  },
  {
   "cell_type": "code",
   "execution_count": 105,
   "id": "68348571-2ad4-40c8-a0e1-ccec33e2e7a6",
   "metadata": {},
   "outputs": [
    {
     "data": {
      "text/plain": [
       "civil engineering         77\n",
       "civil engineer            30\n",
       "civil engineers           16\n",
       "need advice               10\n",
       "structural engineering     9\n",
       "engineering student        8\n",
       "pe exam                    8\n",
       "need help                  6\n",
       "career advice              6\n",
       "engineering jobs           5\n",
       "dtype: int64"
      ]
     },
     "execution_count": 105,
     "metadata": {},
     "output_type": "execute_result"
    }
   ],
   "source": [
    "# transform text in civil label to bag of words and remove stop words and use bi-grams\n",
    "count_word(corpus_title, 'civilengineering', 'title', stop_word='english',\\\n",
    "           ngram=(2,2)).sum().sort_values(ascending=False).head(10)"
   ]
  },
  {
   "cell_type": "code",
   "execution_count": 106,
   "id": "8b82c61d-7f54-4477-80dc-a1b7f481521d",
   "metadata": {},
   "outputs": [
    {
     "data": {
      "text/plain": [
       "civil                148\n",
       "engineering          127\n",
       "civil engineering     77\n",
       "engineer              60\n",
       "advice                52\n",
       "work                  45\n",
       "job                   42\n",
       "pe                    36\n",
       "bridge                36\n",
       "help                  34\n",
       "dtype: int64"
      ]
     },
     "execution_count": 106,
     "metadata": {},
     "output_type": "execute_result"
    }
   ],
   "source": [
    "# transform text in civil label to bag of words and remove stop words using uni and bi grams\n",
    "count_word(corpus_title, 'civilengineering', 'title', stop_word='english', ngram=(1,2))\\\n",
    ".sum().sort_values(ascending=False).head(10)"
   ]
  },
  {
   "cell_type": "code",
   "execution_count": 107,
   "id": "368d5cac-f0bd-4eb4-82f1-e40376793ea9",
   "metadata": {},
   "outputs": [
    {
     "data": {
      "text/plain": [
       "civil engineering student    7\n",
       "civil engineering jobs       4\n",
       "work life balance            4\n",
       "thesis topic suggestion      3\n",
       "lost need advice             3\n",
       "civil engineering career     3\n",
       "final year project           2\n",
       "ca seismic materials         2\n",
       "study pe exam                2\n",
       "courses civil engineers      2\n",
       "dtype: int64"
      ]
     },
     "execution_count": 107,
     "metadata": {},
     "output_type": "execute_result"
    }
   ],
   "source": [
    "# transform text in civil label to bag of words and remove stop words using tri-gram \n",
    "count_word(corpus_title, 'civilengineering', 'title', stop_word='english', ngram=(3,3))\\\n",
    ".sum().sort_values(ascending=False).head(10)"
   ]
  },
  {
   "cell_type": "markdown",
   "id": "fde12940-420e-49bb-8786-ea36267bc627",
   "metadata": {},
   "source": [
    "For tri-grams the values have such a low quantity so we decide to not use tri-grams"
   ]
  },
  {
   "cell_type": "code",
   "execution_count": 108,
   "id": "fd53224d-e0f6-4fe0-8b9e-f72a31e8ab2a",
   "metadata": {},
   "outputs": [
    {
     "data": {
      "text/plain": [
       "['2022 Civil Engineering Salary Survey',\n",
       " \"I have a YouTube channel with over 700 subscribers. I want to start posting videos of construction work in a site or lab work. Most of my subscribers are civil engineering students. unfortunately, I don't work in any company now, so i can't make any video. I want someone who works in a site or lab\",\n",
       " 'Help with making a resume and projects as a civil engineering student',\n",
       " 'who works in the Lab as civil engineer in this group?',\n",
       " 'I’m a civil engineering student and i have a question about sieves test',\n",
       " 'Civil Engineering Student Needs Some Advice',\n",
       " 'Interviewing a Civil Engineer',\n",
       " 'Civil Engineering Position in Salt Lake City, Utah',\n",
       " 'dynamo for civil3d',\n",
       " 'Civil engineering student needing help']"
      ]
     },
     "execution_count": 108,
     "metadata": {},
     "output_type": "execute_result"
    }
   ],
   "source": [
    "# Find titles that store civil word\n",
    "list(find_word(corpus_title, 'title', 'civil', subreddit='civilengineering'))[:10]"
   ]
  },
  {
   "cell_type": "code",
   "execution_count": 109,
   "id": "62c52396-a2cf-4b33-8d0a-c948416db856",
   "metadata": {},
   "outputs": [
    {
     "data": {
      "text/plain": [
       "['Desperately need help with a bridge proposal blueprint',\n",
       " 'Crimea bridge - engineer perspectives?',\n",
       " 'What is the effect of a massive fire engulfing a concrete bridge?',\n",
       " 'Crimean Bridge Fire Rating',\n",
       " 'Currently Installing bridge Girder. please post here your Girder installation so I can learn more from you guys. Thanks',\n",
       " 'Does anyone know the purpose of the groove on side of concrete bridges?',\n",
       " \"In 1940, the Tacoma Narrows Bridge turned into a “wave” and collapsed due to mechanical resonance. I'm sure we all remember learning about this one back in school...\",\n",
       " 'Ontario (GTA) Bridge Engineering Job Market',\n",
       " 'Section of a bridge collapses in Huangshi, China',\n",
       " 'For my bridge people: How do you figure out your load combos when doing hand calcs']"
      ]
     },
     "execution_count": 109,
     "metadata": {},
     "output_type": "execute_result"
    }
   ],
   "source": [
    "# Find titles that store bridge word\n",
    "list(find_word(corpus_title, 'title', 'bridge', subreddit='civilengineering'))[:10]"
   ]
  },
  {
   "cell_type": "markdown",
   "id": "6b64761a-0100-46f3-b733-5e9b26736ab2",
   "metadata": {},
   "source": [
    "### Architecture"
   ]
  },
  {
   "cell_type": "code",
   "execution_count": 110,
   "id": "34473d4a-553b-41de-af93-3e38c9b7aff1",
   "metadata": {},
   "outputs": [
    {
     "data": {
      "text/plain": [
       "architecture     117\n",
       "building          80\n",
       "house             59\n",
       "architectural     50\n",
       "design            42\n",
       "style             35\n",
       "help              30\n",
       "architect         30\n",
       "know              29\n",
       "new               29\n",
       "dtype: int64"
      ]
     },
     "execution_count": 110,
     "metadata": {},
     "output_type": "execute_result"
    }
   ],
   "source": [
    "# transform text in arch label to bag of words and remove stop words\n",
    "count_word(corpus_title, 'architecture', 'title', stop_word='english')\\\n",
    ".sum().sort_values(ascending=False).head(10)"
   ]
  },
  {
   "cell_type": "code",
   "execution_count": 111,
   "id": "4e133144-2483-4c17-b6b5-79b7f41bc838",
   "metadata": {},
   "outputs": [
    {
     "data": {
      "text/plain": [
       "indian state             17\n",
       "state ut                 17\n",
       "architectural marvels    17\n",
       "ut day                   17\n",
       "marvels indian           16\n",
       "south korea              13\n",
       "seoul south               9\n",
       "does know                 9\n",
       "new york                  7\n",
       "le corbusier              6\n",
       "dtype: int64"
      ]
     },
     "execution_count": 111,
     "metadata": {},
     "output_type": "execute_result"
    }
   ],
   "source": [
    "# transform text in arch label to bag of words and remove stop words and use bi-grams\n",
    "count_word(corpus_title, 'architecture', 'title', stop_word='english', ngram=(2,2))\\\n",
    ".sum().sort_values(ascending=False).head(10)"
   ]
  },
  {
   "cell_type": "code",
   "execution_count": 112,
   "id": "1732b26b-a5b1-452e-90e8-d59c98bc438f",
   "metadata": {},
   "outputs": [
    {
     "data": {
      "text/plain": [
       "['Greenwashing in Architecture: a survey.',\n",
       " 'When trying to make a city filled with Neo-Futurism Architecture what would be some ways to properly convey it?',\n",
       " 'I am making these vector drawings about the traditional architecture of some countries, using the same overall shape. Thoughts?',\n",
       " 'How to Combine Architecture Styles',\n",
       " 'Minecraft was the tool that first fostered my interest in architecture. 10 years later I still use it.',\n",
       " '19th Century Architecture Identification',\n",
       " 'i need advice regarding if i continue with architecture',\n",
       " 'Can I study architecture at uni without taking physics',\n",
       " 'Architecture experience in University of Victoria VS University of Technology Victoria',\n",
       " 'Three different styles of Architecture']"
      ]
     },
     "execution_count": 112,
     "metadata": {},
     "output_type": "execute_result"
    }
   ],
   "source": [
    "# Find titles that store architecture word\n",
    "list(find_word(corpus_title, 'title', 'architecture', subreddit='architecture'))[:10]"
   ]
  },
  {
   "cell_type": "code",
   "execution_count": 113,
   "id": "7f1753d1-f576-4c17-8c61-8f0201fbb6fd",
   "metadata": {},
   "outputs": [
    {
     "data": {
      "text/plain": [
       "['Building information?',\n",
       " 'Does the 8/infinity symbol shaped building in the center of this image actually exist? If so, where?',\n",
       " 'any precedent recommendation for an earthquake-proof education building(3-4 storey)?',\n",
       " 'pretty cool stone building',\n",
       " 'I’ve posted about this building before. Building owner has gave me free reign on colour scheme. It’s a big space for me to wrap my head around. Any advice?',\n",
       " 'How frank Gehry did patients so dirty by building center for brain health like this always cracks me up',\n",
       " 'Sail Towers is a cable-stayed building prototype that pushes the architecture boundary forward by combining structural engineering systems used for both land and sea, so buildings of the future can be safely built along coastlines or even “in the water” with the advent of rising sea levels n surges.',\n",
       " 'What is the most beautiful building in New York City?',\n",
       " 'The General Electric Building, New York City. Designed by Cross &amp; Cross (1931)',\n",
       " 'Do you know where you can get 3D models of residential buildings for render practice?']"
      ]
     },
     "execution_count": 113,
     "metadata": {},
     "output_type": "execute_result"
    }
   ],
   "source": [
    "# Find titles that store building word\n",
    "list(find_word(corpus_title, 'title', 'building', subreddit='architecture'))[:10]"
   ]
  },
  {
   "cell_type": "markdown",
   "id": "84cd5f39-f49f-4e7a-b923-b2f755e29b67",
   "metadata": {},
   "source": [
    "## Words Intersection Between Civil Engineering and Architecture"
   ]
  },
  {
   "cell_type": "code",
   "execution_count": 114,
   "id": "979e473d-df73-49bc-a7d2-90742713a542",
   "metadata": {},
   "outputs": [
    {
     "data": {
      "text/plain": [
       "{'advice',\n",
       " 'amp',\n",
       " 'best',\n",
       " 'building',\n",
       " 'construction',\n",
       " 'design',\n",
       " 'does',\n",
       " 'good',\n",
       " 'help',\n",
       " 'just',\n",
       " 'know',\n",
       " 'like',\n",
       " 'looking',\n",
       " 'need',\n",
       " 'new',\n",
       " 'project',\n",
       " 'software',\n",
       " 'work',\n",
       " 'working',\n",
       " 'year'}"
      ]
     },
     "execution_count": 114,
     "metadata": {},
     "output_type": "execute_result"
    }
   ],
   "source": [
    "# find words that overlab betweenn civil engineer and architecture\n",
    "most_words_civil = count_word(corpus_title, 'civilengineering', 'title', stop_word='english')\n",
    "most_words_arch = count_word(corpus_title, 'architecture', 'title', stop_word='english')\n",
    "\n",
    "# use intersect in set class for find words overlab\n",
    "set(most_words_civil.sum().sort_values(ascending=False).head(50).index).intersection\\\n",
    "(set(most_words_arch.sum().sort_values(ascending=False).head(50).index))"
   ]
  },
  {
   "cell_type": "code",
   "execution_count": 115,
   "id": "33d678e8-882e-4687-87fe-f11c7af7623d",
   "metadata": {},
   "outputs": [
    {
     "data": {
      "text/plain": [
       "['Need feedbacks and approval for my groups research about \"Green Buildings\"',\n",
       " 'ICC Building Plan Inspector',\n",
       " 'Building structural designs',\n",
       " 'Foundation,building question.',\n",
       " 'Building a Project Execution Software and Would Like Your Input',\n",
       " \"Thought this belonged I studied mass dampening using this building as I'm sure many others did.\",\n",
       " 'Bridge Building Competition Strategies/tips (?)',\n",
       " 'Does anyone know the dimensions of this NY pipe coming from a building? ( I know it is an ask )',\n",
       " 'Question on calculating building energy consumption',\n",
       " \"how to repair in these kind of situations? It's a 13 year old building. Exposed to 40°C and damped and dusty environments.\",\n",
       " 'is Aluminium Formwork System in high rise buildings actually a better technique than the conventional bricks and concrete walls.',\n",
       " 'Ideas on this Thesis Topic Suggestion: Wind Impacts on Buildings and Structures.',\n",
       " 'In the footage, a hotel collapses into the severely flooding Swat river (flowing right to the building), after its foundation was washed away by the water. In Pakistan this year (June-Aug), the monsoon rains have wreaked havoc, causing at least 903 deaths and leaving about 50,000 homeless.',\n",
       " 'Has anybody recently taken the California Building Plans Examiner test? If so, do you have any tips/recommendations to study. And if you know, can I highlight the binder or should I only use tabs.',\n",
       " 'Cursed_Erect a building']"
      ]
     },
     "execution_count": 115,
     "metadata": {},
     "output_type": "execute_result"
    }
   ],
   "source": [
    "# Find building word that appear in title in subreddit civil\n",
    "list(find_word(corpus_title, 'title', 'building', subreddit='civilengineering'))"
   ]
  },
  {
   "cell_type": "code",
   "execution_count": 116,
   "id": "198f57e3-1c6c-4e88-a054-205093b319c4",
   "metadata": {},
   "outputs": [
    {
     "data": {
      "text/plain": [
       "['Building information?',\n",
       " 'Does the 8/infinity symbol shaped building in the center of this image actually exist? If so, where?',\n",
       " 'any precedent recommendation for an earthquake-proof education building(3-4 storey)?',\n",
       " 'pretty cool stone building',\n",
       " 'I’ve posted about this building before. Building owner has gave me free reign on colour scheme. It’s a big space for me to wrap my head around. Any advice?',\n",
       " 'How frank Gehry did patients so dirty by building center for brain health like this always cracks me up',\n",
       " 'Sail Towers is a cable-stayed building prototype that pushes the architecture boundary forward by combining structural engineering systems used for both land and sea, so buildings of the future can be safely built along coastlines or even “in the water” with the advent of rising sea levels n surges.',\n",
       " 'What is the most beautiful building in New York City?',\n",
       " 'The General Electric Building, New York City. Designed by Cross &amp; Cross (1931)',\n",
       " 'Do you know where you can get 3D models of residential buildings for render practice?']"
      ]
     },
     "execution_count": 116,
     "metadata": {},
     "output_type": "execute_result"
    }
   ],
   "source": [
    "# Find building word that appear in title in subreddit arch\n",
    "list(find_word(corpus_title, 'title', 'building', subreddit='architecture'))[:10]"
   ]
  },
  {
   "cell_type": "markdown",
   "id": "5b57bfcd-80b3-45e9-92ff-cafd6edf4181",
   "metadata": {},
   "source": [
    "Building"
   ]
  },
  {
   "cell_type": "code",
   "execution_count": 117,
   "id": "a25ae669-639b-487e-b9c5-10668f63009d",
   "metadata": {},
   "outputs": [
    {
     "data": {
      "text/plain": [
       "[\"I have a YouTube channel with over 700 subscribers. I want to start posting videos of construction work in a site or lab work. Most of my subscribers are civil engineering students. unfortunately, I don't work in any company now, so i can't make any video. I want someone who works in a site or lab\",\n",
       " 'Sand Storms &amp; Construction Of Desert Pyramids: What do you think?',\n",
       " 'Construction Inspector and Contractor Superintendent explain the process of pouring concrete for sidewalks. Construction Administration is essential in ensuring the integrity of the projects we design. Kudos to all the inspectors out there!',\n",
       " 'Construction noise management',\n",
       " 'Failure during construction']"
      ]
     },
     "execution_count": 117,
     "metadata": {},
     "output_type": "execute_result"
    }
   ],
   "source": [
    "# Find construction word that appear in title in subreddit civil\n",
    "list(find_word(corpus_title, 'title', 'construction', subreddit='civilengineering'))[:5]"
   ]
  },
  {
   "cell_type": "code",
   "execution_count": 118,
   "id": "5e359511-7cd6-4e96-b25a-2b97f260e057",
   "metadata": {},
   "outputs": [
    {
     "data": {
      "text/plain": [
       "['Help with material and construction technique. Currently designing a residence in India and would like to give a similiar finish to the roof slab (the part that looks like a steel C section along the slab). Can ik how this can be done',\n",
       " 'Principles and Method of Construction of Sand Dune Pyramids',\n",
       " 'My biggest project to date, reconstruction of the Roman city of Timgad (modern day Algeria) in North Africa. Founded by Trajan around 100 CE for his veterans.',\n",
       " 'Any Advice appreciated: BA in Anthro, currently working in construction, want to pursue Architecture',\n",
       " 'What material is this black part of the facade and is there a construction method available somewhere online?']"
      ]
     },
     "execution_count": 118,
     "metadata": {},
     "output_type": "execute_result"
    }
   ],
   "source": [
    "# Find construction word that appear in title in subreddit arch\n",
    "list(find_word(corpus_title, 'title', 'construction', subreddit='architecture'))[:5]"
   ]
  },
  {
   "cell_type": "markdown",
   "id": "935c355a-e4ac-4ee8-a570-4f8e7d83cc99",
   "metadata": {},
   "source": [
    "Construction"
   ]
  },
  {
   "cell_type": "code",
   "execution_count": 119,
   "id": "c484a8e3-6e76-4163-b7ca-6474926a5d47",
   "metadata": {},
   "outputs": [
    {
     "data": {
      "text/plain": [
       "['Construction Inspector and Contractor Superintendent explain the process of pouring concrete for sidewalks. Construction Administration is essential in ensuring the integrity of the projects we design. Kudos to all the inspectors out there!',\n",
       " 'Building structural designs',\n",
       " 'Soon to be PE who has never designed anything',\n",
       " 'Best software for designing steel frame structures',\n",
       " 'Why is shorter span considered for both Mx and My in design of two way slabs?']"
      ]
     },
     "execution_count": 119,
     "metadata": {},
     "output_type": "execute_result"
    }
   ],
   "source": [
    "# Find design word that appear in title in subreddit civil\n",
    "list(find_word(corpus_title, 'title', 'design', subreddit='civilengineering'))[:5]"
   ]
  },
  {
   "cell_type": "code",
   "execution_count": 120,
   "id": "a7450e7c-8eab-41ae-aa87-129c70bf5647",
   "metadata": {},
   "outputs": [
    {
     "data": {
      "text/plain": [
       "['Help with material and construction technique. Currently designing a residence in India and would like to give a similiar finish to the roof slab (the part that looks like a steel C section along the slab). Can ik how this can be done',\n",
       " 'Interview with facade designer. I will be asked to draw some details in interview. What should I focus on when drawing details of facade? I’m an Architectural Technologist.',\n",
       " 'Can you guys help me? Is this design so \"idiotic\"? Read my comment for more information, please!',\n",
       " 'Feedback on design',\n",
       " 'Architects, how do you find your design professionals?']"
      ]
     },
     "execution_count": 120,
     "metadata": {},
     "output_type": "execute_result"
    }
   ],
   "source": [
    "# Find design word that appear in title in subreddit arch\n",
    "list(find_word(corpus_title, 'title', 'design', subreddit='architecture'))[:5]"
   ]
  },
  {
   "cell_type": "markdown",
   "id": "a88189d7-f277-44cb-9058-181a86ed20f9",
   "metadata": {},
   "source": [
    "Design"
   ]
  },
  {
   "cell_type": "markdown",
   "id": "97c58df1-7080-4d80-b4c3-cfcb0c4d9d84",
   "metadata": {},
   "source": [
    "## Normalization "
   ]
  },
  {
   "cell_type": "markdown",
   "id": "742a4550-cbe1-47ca-ad37-5ea8f27bd10f",
   "metadata": {},
   "source": [
    "### Stemming"
   ]
  },
  {
   "cell_type": "code",
   "execution_count": 121,
   "id": "903a95e5-584d-47fb-b44a-41f9fd53f73a",
   "metadata": {},
   "outputs": [
    {
     "data": {
      "text/plain": [
       "engin        217\n",
       "civil        148\n",
       "thi           72\n",
       "work          71\n",
       "job           56\n",
       "advic         52\n",
       "ani           41\n",
       "design        40\n",
       "bridg         38\n",
       "structur      37\n",
       "need          36\n",
       "help          36\n",
       "question      36\n",
       "project       35\n",
       "doe           34\n",
       "anyon         34\n",
       "year          31\n",
       "use           30\n",
       "student       30\n",
       "construct     30\n",
       "compani       29\n",
       "look          26\n",
       "like          24\n",
       "career        24\n",
       "concret       23\n",
       "dtype: int64"
      ]
     },
     "execution_count": 121,
     "metadata": {},
     "output_type": "execute_result"
    }
   ],
   "source": [
    "# tokenize using stem in subreddit civil engineer\n",
    "count_word(corpus_title, 'civilengineering', 'title', stop_word='english', tokenizer=StemTokenizer())\\\n",
    ".sum().sort_values(ascending=False).head(25)"
   ]
  },
  {
   "cell_type": "code",
   "execution_count": 122,
   "id": "e9d0de50-3534-4677-8d32-2807a8edc0b8",
   "metadata": {},
   "outputs": [
    {
     "data": {
      "text/plain": [
       "architectur    164\n",
       "thi            150\n",
       "build          103\n",
       "hous            75\n",
       "design          63\n",
       "architect       56\n",
       "style           43\n",
       "project         34\n",
       "know            32\n",
       "help            31\n",
       "citi            30\n",
       "look            30\n",
       "new             29\n",
       "work            29\n",
       "anyon           28\n",
       "ani             28\n",
       "use             27\n",
       "like            26\n",
       "wa              26\n",
       "render          25\n",
       "doe             24\n",
       "day             23\n",
       "home            22\n",
       "think           22\n",
       "need            21\n",
       "dtype: int64"
      ]
     },
     "execution_count": 122,
     "metadata": {},
     "output_type": "execute_result"
    }
   ],
   "source": [
    "# tokenize using stem in subreddit architecture\n",
    "count_word(corpus_title, 'architecture', 'title', stop_word='english', tokenizer=StemTokenizer())\\\n",
    ".sum().sort_values(ascending=False).head(25)"
   ]
  },
  {
   "cell_type": "markdown",
   "id": "4813c824-44b0-471d-8bb7-f19f000ebafa",
   "metadata": {},
   "source": [
    "For Stemming method words lost some character and may lost some context when modeling which we decided it not necessary to do stem."
   ]
  },
  {
   "cell_type": "markdown",
   "id": "3ec38411-ad9a-4a67-9b2b-d4b48fcb52a6",
   "metadata": {},
   "source": [
    "### Lemmatizing"
   ]
  },
  {
   "cell_type": "code",
   "execution_count": 123,
   "id": "9886d88f-bb7e-4198-a531-285575fb14ed",
   "metadata": {},
   "outputs": [
    {
     "data": {
      "text/plain": [
       "civil          147\n",
       "engineering    126\n",
       "engineer        91\n",
       "job             56\n",
       "advice          52\n",
       "work            48\n",
       "bridge          38\n",
       "question        36\n",
       "help            35\n",
       "project         35\n",
       "dtype: int64"
      ]
     },
     "execution_count": 123,
     "metadata": {},
     "output_type": "execute_result"
    }
   ],
   "source": [
    "# tokenize using lemmatize\n",
    "count_word(corpus_title, 'civilengineering', 'title', stop_word='english', tokenizer=LemmaTokenizer())\\\n",
    ".sum().sort_values(ascending=False).head(10)"
   ]
  },
  {
   "cell_type": "code",
   "execution_count": 124,
   "id": "4d4af609-f631-4591-97a1-4d015e1faa01",
   "metadata": {},
   "outputs": [
    {
     "data": {
      "text/plain": [
       "architecture     115\n",
       "building          97\n",
       "house             66\n",
       "architect         56\n",
       "architectural     49\n",
       "style             43\n",
       "design            43\n",
       "project           33\n",
       "know              32\n",
       "help              30\n",
       "dtype: int64"
      ]
     },
     "execution_count": 124,
     "metadata": {},
     "output_type": "execute_result"
    }
   ],
   "source": [
    "# transform text in renew label to bag of words and remove stop words\n",
    "count_word(corpus_title, 'architecture', 'title', stop_word='english', tokenizer=LemmaTokenizer())\\\n",
    ".sum().sort_values(ascending=False).head(10)"
   ]
  },
  {
   "cell_type": "markdown",
   "id": "e07d52a6-029c-4d62-bdff-0bd3024e6562",
   "metadata": {},
   "source": [
    "From Lemmatizing method words seem same as normal so we also decided to use lemmatize when modeling because lemmatize can reduce features for our models."
   ]
  },
  {
   "cell_type": "markdown",
   "id": "fd2945a0-1253-4caf-922a-aba6b1c82879",
   "metadata": {},
   "source": [
    "# Part 4: Modeling"
   ]
  },
  {
   "cell_type": "markdown",
   "id": "cd5d0871-ed32-4c36-bb91-4f055b37e60a",
   "metadata": {},
   "source": [
    "## Train Test Split"
   ]
  },
  {
   "cell_type": "code",
   "execution_count": 125,
   "id": "a0490cd1-d92c-4f7e-9b9e-66156c89ab21",
   "metadata": {},
   "outputs": [],
   "source": [
    "# create feature and target variable\n",
    "X = corpus_title['title']\n",
    "y = corpus_title['subreddit']"
   ]
  },
  {
   "cell_type": "code",
   "execution_count": 126,
   "id": "9d9a225a-624c-408c-9b5d-46dfef5df6fa",
   "metadata": {},
   "outputs": [],
   "source": [
    "# change label in target civil engineering = 1, architecture = 0\n",
    "y = y.map({'architecture':0, 'civilengineering':1})"
   ]
  },
  {
   "cell_type": "code",
   "execution_count": 127,
   "id": "375e0977-ae07-427c-95ef-b124510f2bcc",
   "metadata": {},
   "outputs": [],
   "source": [
    "# train test split\n",
    "X_train, X_test, y_train, y_test = train_test_split(X, y, test_size=0.25, \n",
    "                                                    random_state = 42)"
   ]
  },
  {
   "cell_type": "markdown",
   "id": "5b9716fd-641b-43b6-b584-480a0f416a15",
   "metadata": {},
   "source": [
    "## Logistic Regression"
   ]
  },
  {
   "cell_type": "markdown",
   "id": "840b5d0a-0ef1-4851-8452-f1e85bd508f9",
   "metadata": {},
   "source": [
    "use Logistic regression create baseline for compare other models "
   ]
  },
  {
   "cell_type": "code",
   "execution_count": 128,
   "id": "d052577a-6a38-4c0e-8201-2dc6962ddbbb",
   "metadata": {},
   "outputs": [
    {
     "data": {
      "text/plain": [
       "civilengineering    52.46\n",
       "architecture        47.54\n",
       "Name: subreddit, dtype: float64"
      ]
     },
     "execution_count": 128,
     "metadata": {},
     "output_type": "execute_result"
    }
   ],
   "source": [
    "corpus_title['subreddit'].value_counts(normalize=True).mul(100).round(2)"
   ]
  },
  {
   "cell_type": "code",
   "execution_count": 129,
   "id": "e88d2bdf-4826-4b65-b7fe-e145f8d1073c",
   "metadata": {},
   "outputs": [],
   "source": [
    "def get_X_vectorizer(model):\n",
    "    '''\n",
    "    return tokenizer\n",
    "    '''\n",
    "    X_train_vec = model.fit_transform(X_train)\n",
    "    X_test_vec = model.transform(X_test)\n",
    "    return X_train_vec, X_test_vec"
   ]
  },
  {
   "cell_type": "code",
   "execution_count": 130,
   "id": "1b33b454-5786-4530-9698-606f8804e480",
   "metadata": {},
   "outputs": [],
   "source": [
    "def evaluation(model, X_train_vec, X_test_vec):\n",
    "    '''\n",
    "    return accuracy score from train and test\n",
    "    '''\n",
    "    y_preds = model.predict(X_test_vec)\n",
    "    train_acc = round(model.score(X_train_vec,y_train),4)\n",
    "    test_acc = round(model.score(X_test_vec,y_test),4)\n",
    "    f1_test = round(f1_score(y_test, y_preds),4)\n",
    "    print(f'Training accuracy: {train_acc}')\n",
    "    print(f'Testing accuracy: {test_acc}')\n",
    "    print(f'Testing f1 score:{f1_test}')\n",
    "    cm = confusion_matrix(y_test,y_preds)\n",
    "    ConfusionMatrixDisplay(cm,display_labels=model.classes_)\\\n",
    "    .plot(colorbar=False, cmap = 'Blues');\n",
    "    return [train_acc, test_acc, f1_test]"
   ]
  },
  {
   "cell_type": "code",
   "execution_count": 131,
   "id": "be075fb5-b55e-44bf-a703-27aec3b0df20",
   "metadata": {},
   "outputs": [],
   "source": [
    "def coeff_log(model,label,amount):\n",
    "    \"\"\"Function extract the coefficient from logistic regression model\"\"\"\n",
    "    if label == 0:\n",
    "        print(pd.DataFrame(logreg.coef_[0],\\\n",
    "                     index=cvec.get_feature_names_out())[0].sort_values().head(amount))\n",
    "    else:\n",
    "        print(pd.DataFrame(logreg.coef_[0],\\\n",
    "                     index=cvec.get_feature_names_out())[0].sort_values().tail(amount))"
   ]
  },
  {
   "cell_type": "markdown",
   "id": "e51aded6-8806-4662-bb51-2bae1797eb8f",
   "metadata": {},
   "source": [
    "### 1st Iteration: Basic logistic regression model\n",
    "Vectorizer: Countvectorizer\n",
    "1. Logistic regression without lemmatized word\n",
    "2. Logistic regression with lemmatized word"
   ]
  },
  {
   "cell_type": "code",
   "execution_count": 132,
   "id": "3237c978-599f-4068-8fee-b467540d5b23",
   "metadata": {},
   "outputs": [
    {
     "name": "stdout",
     "output_type": "stream",
     "text": [
      "# Columns without lemmatized word: 3490\n",
      "Training accuracy: 0.9831\n",
      "Testing accuracy: 0.8097\n",
      "Testing f1 score:0.8327\n"
     ]
    },
    {
     "data": {
      "image/png": "[encoded data removed]",
      "text/plain": [
       "<Figure size 640x480 with 1 Axes>"
      ]
     },
     "metadata": {},
     "output_type": "display_data"
    }
   ],
   "source": [
    "# 1st iteration: Logistic regression without lemmatized word\n",
    "# Vectorize\n",
    "cvec = CountVectorizer(stop_words='english')\n",
    "X_train_cvec, X_test_cvec = get_X_vectorizer(cvec)\n",
    "print(f'# Columns without lemmatized word: {X_train_cvec.shape[1]}')\n",
    "\n",
    "# Fit or train the model\n",
    "logreg = LogisticRegression()\n",
    "logreg.fit(X_train_cvec,y_train)\n",
    "\n",
    "# Evaluation\n",
    "first_iter_1 = evaluation(logreg, X_train_cvec, X_test_cvec)"
   ]
  },
  {
   "cell_type": "code",
   "execution_count": 133,
   "id": "c0c31c87-25e5-47e4-98c0-2d8e3384508e",
   "metadata": {},
   "outputs": [
    {
     "name": "stdout",
     "output_type": "stream",
     "text": [
      "architecture    -3.076251\n",
      "house           -2.012761\n",
      "architects      -1.987325\n",
      "architectural   -1.976385\n",
      "style           -1.871416\n",
      "architect       -1.691552\n",
      "building        -1.633661\n",
      "portfolio       -1.157109\n",
      "sketch          -1.075828\n",
      "world           -1.020371\n",
      "chicago         -1.008192\n",
      "march           -1.002829\n",
      "homes           -0.941100\n",
      "roof            -0.919144\n",
      "room            -0.911128\n",
      "concept         -0.903318\n",
      "city            -0.891389\n",
      "cool            -0.869444\n",
      "facade          -0.838703\n",
      "apartment       -0.829002\n",
      "university      -0.825541\n",
      "brick           -0.815630\n",
      "rendering       -0.794620\n",
      "3d              -0.793517\n",
      "series          -0.792348\n",
      "Name: 0, dtype: float64\n"
     ]
    }
   ],
   "source": [
    "# 1st iteration: No lemmatized word\n",
    "# label 0 mean architecture\n",
    "coeff_log(logreg,0,25)"
   ]
  },
  {
   "cell_type": "code",
   "execution_count": 134,
   "id": "14080409-400b-40ab-be1f-7e44df51e963",
   "metadata": {},
   "outputs": [
    {
     "name": "stdout",
     "output_type": "stream",
     "text": [
      "references     0.730438\n",
      "jobs           0.742689\n",
      "internship     0.746968\n",
      "stress         0.753949\n",
      "advice         0.793444\n",
      "vs             0.796472\n",
      "crack          0.799625\n",
      "worth          0.831471\n",
      "doing          0.847492\n",
      "beam           0.855510\n",
      "work           0.876420\n",
      "question       0.877090\n",
      "interview      0.888301\n",
      "inspector      0.897260\n",
      "highway        0.965690\n",
      "water          1.017402\n",
      "career         1.029231\n",
      "concrete       1.303184\n",
      "company        1.316912\n",
      "engineers      1.369632\n",
      "engineer       1.521022\n",
      "pe             1.563878\n",
      "bridge         1.710502\n",
      "engineering    1.976793\n",
      "civil          2.221886\n",
      "Name: 0, dtype: float64\n"
     ]
    }
   ],
   "source": [
    "# 1st iteration: No lemmatized word\n",
    "# label 1 mean civil engineer\n",
    "coeff_log(logreg,1,25)"
   ]
  },
  {
   "cell_type": "code",
   "execution_count": 135,
   "id": "a03bd6e7-da87-4743-8540-f3265739cc2d",
   "metadata": {},
   "outputs": [
    {
     "name": "stdout",
     "output_type": "stream",
     "text": [
      "# Columns with lemmatized word: 2941\n",
      "Training accuracy: 0.9753\n",
      "Testing accuracy: 0.7928\n",
      "Testing f1 score:0.8172\n"
     ]
    },
    {
     "data": {
      "image/png": "[encoded data removed]",
      "text/plain": [
       "<Figure size 640x480 with 1 Axes>"
      ]
     },
     "metadata": {},
     "output_type": "display_data"
    }
   ],
   "source": [
    "# 1st iteration: Logistic regression with lemmatized word\n",
    "# Vectorize\n",
    "cvec = CountVectorizer(stop_words='english',tokenizer=LemmaTokenizer())\n",
    "X_train_cvec, X_test_cvec = get_X_vectorizer(cvec)\n",
    "print(f'# Columns with lemmatized word: {X_train_cvec.shape[1]}')\n",
    "\n",
    "# Fit or train the model\n",
    "logreg = LogisticRegression()\n",
    "logreg.fit(X_train_cvec,y_train)\n",
    "\n",
    "# Evaluation\n",
    "first_iter_2 = evaluation(logreg, X_train_cvec, X_test_cvec)"
   ]
  },
  {
   "cell_type": "code",
   "execution_count": 136,
   "id": "147f42a6-b293-43d2-b953-3611e7b2cb1b",
   "metadata": {},
   "outputs": [
    {
     "name": "stdout",
     "output_type": "stream",
     "text": [
      "architecture    -3.137663\n",
      "architect       -2.308653\n",
      "house           -2.002022\n",
      "architectural   -1.981419\n",
      "style           -1.868514\n",
      "building        -1.563301\n",
      "portfolio       -1.197503\n",
      "home            -1.152780\n",
      "render          -1.151530\n",
      "chicago         -1.093254\n",
      "sketch          -1.086044\n",
      "march           -1.049706\n",
      "room            -1.040020\n",
      "able            -0.976461\n",
      "roof            -0.972511\n",
      "image           -0.960541\n",
      "tower           -0.937285\n",
      "apartment       -0.934753\n",
      "facade          -0.934076\n",
      "world           -0.932882\n",
      "cool            -0.925741\n",
      "bedroom         -0.884059\n",
      "villa           -0.876245\n",
      "concept         -0.870015\n",
      "twin            -0.857656\n",
      "Name: 0, dtype: float64\n"
     ]
    }
   ],
   "source": [
    "# 1st iteration: Lemmatized word\n",
    "# label 0 mean architecture\n",
    "coeff_log(logreg,0,25)"
   ]
  },
  {
   "cell_type": "code",
   "execution_count": 137,
   "id": "f564bc73-acb7-44a3-b394-7a946f2910d8",
   "metadata": {},
   "outputs": [
    {
     "name": "stdout",
     "output_type": "stream",
     "text": [
      "master         0.738959\n",
      "suggestion     0.740551\n",
      "stress         0.746103\n",
      "worth          0.770523\n",
      "utility        0.771720\n",
      "job            0.781375\n",
      "resume         0.801433\n",
      "doing          0.836330\n",
      "industry       0.844871\n",
      "earthquake     0.853976\n",
      "work           0.911805\n",
      "inspector      0.913692\n",
      "exam           0.938808\n",
      "question       0.939908\n",
      "interview      0.964765\n",
      "opportunity    0.983053\n",
      "highway        1.011255\n",
      "career         1.090043\n",
      "water          1.114952\n",
      "concrete       1.276447\n",
      "company        1.542463\n",
      "bridge         1.608043\n",
      "engineer       1.868657\n",
      "engineering    1.953601\n",
      "civil          2.156839\n",
      "Name: 0, dtype: float64\n"
     ]
    }
   ],
   "source": [
    "# 1st iteration: Lemmatized word\n",
    "# label 1 mean civil engineer\n",
    "coeff_log(logreg,1,25)"
   ]
  },
  {
   "cell_type": "markdown",
   "id": "a93f95b9-4ce9-40d1-a1b9-5287b7d44759",
   "metadata": {},
   "source": [
    "### 1st Iteration conclusion\n",
    "Vectorizer: Countvectorizer\n",
    "1. Logistic regression without lemmatized word\n",
    "2. Logistic regression with lemmatized word"
   ]
  },
  {
   "cell_type": "code",
   "execution_count": 138,
   "id": "9ded21e7-3866-47e3-a5c6-1f3f8eab0395",
   "metadata": {},
   "outputs": [],
   "source": [
    "conclusion_1st_iter = pd.DataFrame(columns=['training_accuracy',\n",
    "                                          'testing_accuracy',\n",
    "                                          'testing_f1_score'])"
   ]
  },
  {
   "cell_type": "code",
   "execution_count": 139,
   "id": "601f1e4f-3d7e-443b-8d09-5911ee60cb14",
   "metadata": {},
   "outputs": [
    {
     "data": {
      "text/html": [
       "<div>\n",
       "<style scoped>\n",
       "    .dataframe tbody tr th:only-of-type {\n",
       "        vertical-align: middle;\n",
       "    }\n",
       "\n",
       "    .dataframe tbody tr th {\n",
       "        vertical-align: top;\n",
       "    }\n",
       "\n",
       "    .dataframe thead th {\n",
       "        text-align: right;\n",
       "    }\n",
       "</style>\n",
       "<table border=\"1\" class=\"dataframe\">\n",
       "  <thead>\n",
       "    <tr style=\"text-align: right;\">\n",
       "      <th></th>\n",
       "      <th>training_accuracy</th>\n",
       "      <th>testing_accuracy</th>\n",
       "      <th>testing_f1_score</th>\n",
       "    </tr>\n",
       "  </thead>\n",
       "  <tbody>\n",
       "    <tr>\n",
       "      <th>0</th>\n",
       "      <td>0.9831</td>\n",
       "      <td>0.8097</td>\n",
       "      <td>0.8327</td>\n",
       "    </tr>\n",
       "    <tr>\n",
       "      <th>1</th>\n",
       "      <td>0.9753</td>\n",
       "      <td>0.7928</td>\n",
       "      <td>0.8172</td>\n",
       "    </tr>\n",
       "  </tbody>\n",
       "</table>\n",
       "</div>"
      ],
      "text/plain": [
       "   training_accuracy  testing_accuracy  testing_f1_score\n",
       "0             0.9831            0.8097            0.8327\n",
       "1             0.9753            0.7928            0.8172"
      ]
     },
     "execution_count": 139,
     "metadata": {},
     "output_type": "execute_result"
    }
   ],
   "source": [
    "conclusion_1st_iter.loc[0] = first_iter_1\n",
    "conclusion_1st_iter.loc[1] = first_iter_2\n",
    "conclusion_1st_iter"
   ]
  },
  {
   "cell_type": "markdown",
   "id": "2e07ce92-35bd-4299-8acb-033ebe179be1",
   "metadata": {},
   "source": [
    "### 2nd Iteration: Remove cheating word in model\n",
    "Vectorizer: Countvectorizer\n",
    "1. Logistic regression without lemmatized word\n",
    "2. Logistic regression with lemmatized word"
   ]
  },
  {
   "cell_type": "code",
   "execution_count": 140,
   "id": "c038dacd-3e9a-468b-ac63-4e2c987815a2",
   "metadata": {},
   "outputs": [],
   "source": [
    "# 2nd iteration: Remove cheating word in the model\n",
    "new_stopwords = stopwords.words('english')"
   ]
  },
  {
   "cell_type": "code",
   "execution_count": 141,
   "id": "4b8672e6-6322-42a3-b8d5-7015751ea660",
   "metadata": {},
   "outputs": [],
   "source": [
    "# Extract from the coefficient of logistic regression\n",
    "# model in 1st iteration.\n",
    "\n",
    "# Extend cheating word into stopwords from \n",
    "# both architecture and civil engineer\n",
    "new_stopwords.extend(['architecture','architectural',\\\n",
    "                      'architect','architects','engineering',\\\n",
    "                      'civil', 'engineers', 'engineer'])"
   ]
  },
  {
   "cell_type": "code",
   "execution_count": 142,
   "id": "c6074c3e-fdf0-4276-a819-5b11b810dbd8",
   "metadata": {},
   "outputs": [
    {
     "name": "stdout",
     "output_type": "stream",
     "text": [
      "# Columns without lemmatized word: 3573\n",
      "Training accuracy: 0.9788\n",
      "Testing accuracy: 0.7463\n",
      "Testing f1 score:0.7818\n"
     ]
    },
    {
     "data": {
      "image/png": "[encoded data removed]",
      "text/plain": [
       "<Figure size 640x480 with 1 Axes>"
      ]
     },
     "metadata": {},
     "output_type": "display_data"
    }
   ],
   "source": [
    "# 2nd iteration: Logistic regression without lemmatized word\n",
    "cvec = CountVectorizer(stop_words=new_stopwords)\n",
    "X_train_cvec, X_test_cvec = get_X_vectorizer(cvec)\n",
    "print(f'# Columns without lemmatized word: {X_train_cvec.shape[1]}')\n",
    "\n",
    "# Fit or train the model\n",
    "logreg = LogisticRegression()\n",
    "logreg.fit(X_train_cvec,y_train)\n",
    "\n",
    "# Evaluation\n",
    "second_iter_1 = evaluation(logreg, X_train_cvec, X_test_cvec)"
   ]
  },
  {
   "cell_type": "code",
   "execution_count": 143,
   "id": "7a42e3e9-9167-4756-b447-73a898e7d610",
   "metadata": {},
   "outputs": [
    {
     "name": "stdout",
     "output_type": "stream",
     "text": [
      "style        -1.996055\n",
      "house        -1.964942\n",
      "building     -1.712364\n",
      "portfolio    -1.291116\n",
      "sketch       -1.115164\n",
      "chicago      -1.112226\n",
      "styles       -1.104032\n",
      "share        -1.086975\n",
      "find         -1.060449\n",
      "de           -1.039281\n",
      "made         -1.037095\n",
      "profession   -0.979914\n",
      "indian       -0.968118\n",
      "world        -0.957289\n",
      "ai           -0.927298\n",
      "designed     -0.914619\n",
      "interior     -0.899892\n",
      "concept      -0.891978\n",
      "apartment    -0.872943\n",
      "roof         -0.865530\n",
      "housing      -0.864193\n",
      "city         -0.859893\n",
      "want         -0.853869\n",
      "ba           -0.852577\n",
      "ceiling      -0.849273\n",
      "Name: 0, dtype: float64\n"
     ]
    }
   ],
   "source": [
    "# 2nd iteration: No lemmatized word\n",
    "# label 0 mean architecture\n",
    "coeff_log(logreg,0,25)"
   ]
  },
  {
   "cell_type": "code",
   "execution_count": 144,
   "id": "c2d0e113-29a0-4b3b-9851-f7a6dc56fc9f",
   "metadata": {},
   "outputs": [
    {
     "name": "stdout",
     "output_type": "stream",
     "text": [
      "stress            0.815091\n",
      "references        0.843770\n",
      "computer          0.850721\n",
      "topic             0.863179\n",
      "geotechnical      0.881592\n",
      "interview         0.885597\n",
      "inspector         0.890085\n",
      "career            0.890873\n",
      "internship        0.903308\n",
      "seeking           0.911702\n",
      "work              0.912627\n",
      "beam              0.913043\n",
      "salary            0.927722\n",
      "opportunities     0.950142\n",
      "highway           0.980330\n",
      "question          1.055683\n",
      "jobs              1.058110\n",
      "structural        1.125925\n",
      "transportation    1.134626\n",
      "ce                1.184390\n",
      "water             1.352062\n",
      "concrete          1.371618\n",
      "company           1.451519\n",
      "pe                1.643277\n",
      "bridge            1.804189\n",
      "Name: 0, dtype: float64\n"
     ]
    }
   ],
   "source": [
    "# 2nd iteration: No lemmatized word\n",
    "# label 1 mean civil engineer\n",
    "coeff_log(logreg,1,25)"
   ]
  },
  {
   "cell_type": "code",
   "execution_count": 145,
   "id": "29298e1e-96d8-4ec2-bd82-09ea78027ff9",
   "metadata": {},
   "outputs": [
    {
     "name": "stdout",
     "output_type": "stream",
     "text": [
      "# Columns with lemmatized word: 3027\n",
      "Training accuracy: 0.9612\n",
      "Testing accuracy: 0.7526\n",
      "Testing f1 score:0.7869\n"
     ]
    },
    {
     "data": {
      "image/png": "[encoded data removed]",
      "text/plain": [
       "<Figure size 640x480 with 1 Axes>"
      ]
     },
     "metadata": {},
     "output_type": "display_data"
    }
   ],
   "source": [
    "# 2nd iteration: Logistic regression with lemmatized word\n",
    "cvec = CountVectorizer(stop_words=new_stopwords,tokenizer=LemmaTokenizer())\n",
    "X_train_cvec, X_test_cvec = get_X_vectorizer(cvec)\n",
    "print(f'# Columns with lemmatized word: {X_train_cvec.shape[1]}')\n",
    "\n",
    "# Fit or train the model\n",
    "logreg = LogisticRegression()\n",
    "logreg.fit(X_train_cvec,y_train)\n",
    "\n",
    "# Evaluation\n",
    "second_iter_2 = evaluation(logreg, X_train_cvec, X_test_cvec)"
   ]
  },
  {
   "cell_type": "code",
   "execution_count": 146,
   "id": "d82593a5-b918-4aa7-96ad-8782884cb3c7",
   "metadata": {},
   "outputs": [
    {
     "name": "stdout",
     "output_type": "stream",
     "text": [
      "style           -2.167586\n",
      "house           -1.926867\n",
      "building        -1.601590\n",
      "portfolio       -1.364500\n",
      "indian          -1.301603\n",
      "profession      -1.219649\n",
      "home            -1.169965\n",
      "chicago         -1.164024\n",
      "sketch          -1.111035\n",
      "share           -1.090386\n",
      "render          -1.083224\n",
      "image           -1.029316\n",
      "find            -0.990943\n",
      "part            -0.989192\n",
      "made            -0.988170\n",
      "villa           -0.987870\n",
      "tower           -0.983226\n",
      "room            -0.983110\n",
      "marvel          -0.971521\n",
      "apartment       -0.969477\n",
      "software        -0.910017\n",
      "housing         -0.909503\n",
      "visualization   -0.904273\n",
      "world           -0.899396\n",
      "roof            -0.892811\n",
      "Name: 0, dtype: float64\n"
     ]
    }
   ],
   "source": [
    "# 2nd iteration: Lemmatized word\n",
    "# label 0 mean architecture\n",
    "coeff_log(logreg,0,25)"
   ]
  },
  {
   "cell_type": "code",
   "execution_count": 147,
   "id": "fe340021-deb3-48e0-bfe5-40b2d7374de7",
   "metadata": {},
   "outputs": [
    {
     "name": "stdout",
     "output_type": "stream",
     "text": [
      "stress            0.790638\n",
      "beam              0.791527\n",
      "industry          0.798937\n",
      "master            0.803101\n",
      "data              0.805988\n",
      "earthquake        0.826891\n",
      "resume            0.828802\n",
      "career            0.878854\n",
      "computer          0.880633\n",
      "inspector         0.904680\n",
      "interview         0.906686\n",
      "geotechnical      0.940748\n",
      "work              0.959658\n",
      "utility           0.963822\n",
      "exam              0.967384\n",
      "seeking           0.978810\n",
      "highway           0.993871\n",
      "question          1.033787\n",
      "transportation    1.150097\n",
      "structural        1.161223\n",
      "opportunity       1.202273\n",
      "concrete          1.288080\n",
      "water             1.416080\n",
      "company           1.629614\n",
      "bridge            1.715240\n",
      "Name: 0, dtype: float64\n"
     ]
    }
   ],
   "source": [
    "# 2nd iteration: Lemmatized word\n",
    "# label 1 mean civil engineer\n",
    "coeff_log(logreg,1,25)"
   ]
  },
  {
   "cell_type": "code",
   "execution_count": 148,
   "id": "d8121cc6-232e-4faa-989e-55b36df0769c",
   "metadata": {},
   "outputs": [
    {
     "data": {
      "text/html": [
       "<div>\n",
       "<style scoped>\n",
       "    .dataframe tbody tr th:only-of-type {\n",
       "        vertical-align: middle;\n",
       "    }\n",
       "\n",
       "    .dataframe tbody tr th {\n",
       "        vertical-align: top;\n",
       "    }\n",
       "\n",
       "    .dataframe thead th {\n",
       "        text-align: right;\n",
       "    }\n",
       "</style>\n",
       "<table border=\"1\" class=\"dataframe\">\n",
       "  <thead>\n",
       "    <tr style=\"text-align: right;\">\n",
       "      <th></th>\n",
       "      <th>subreddit</th>\n",
       "      <th>pred</th>\n",
       "    </tr>\n",
       "  </thead>\n",
       "  <tbody>\n",
       "    <tr>\n",
       "      <th>1461</th>\n",
       "      <td>0</td>\n",
       "      <td>1</td>\n",
       "    </tr>\n",
       "    <tr>\n",
       "      <th>1811</th>\n",
       "      <td>0</td>\n",
       "      <td>1</td>\n",
       "    </tr>\n",
       "    <tr>\n",
       "      <th>188</th>\n",
       "      <td>1</td>\n",
       "      <td>0</td>\n",
       "    </tr>\n",
       "    <tr>\n",
       "      <th>1317</th>\n",
       "      <td>0</td>\n",
       "      <td>1</td>\n",
       "    </tr>\n",
       "    <tr>\n",
       "      <th>465</th>\n",
       "      <td>1</td>\n",
       "      <td>0</td>\n",
       "    </tr>\n",
       "    <tr>\n",
       "      <th>...</th>\n",
       "      <td>...</td>\n",
       "      <td>...</td>\n",
       "    </tr>\n",
       "    <tr>\n",
       "      <th>334</th>\n",
       "      <td>1</td>\n",
       "      <td>0</td>\n",
       "    </tr>\n",
       "    <tr>\n",
       "      <th>1114</th>\n",
       "      <td>0</td>\n",
       "      <td>1</td>\n",
       "    </tr>\n",
       "    <tr>\n",
       "      <th>1700</th>\n",
       "      <td>0</td>\n",
       "      <td>1</td>\n",
       "    </tr>\n",
       "    <tr>\n",
       "      <th>1393</th>\n",
       "      <td>0</td>\n",
       "      <td>1</td>\n",
       "    </tr>\n",
       "    <tr>\n",
       "      <th>1052</th>\n",
       "      <td>0</td>\n",
       "      <td>1</td>\n",
       "    </tr>\n",
       "  </tbody>\n",
       "</table>\n",
       "<p>117 rows × 2 columns</p>\n",
       "</div>"
      ],
      "text/plain": [
       "      subreddit  pred\n",
       "1461          0     1\n",
       "1811          0     1\n",
       "188           1     0\n",
       "1317          0     1\n",
       "465           1     0\n",
       "...         ...   ...\n",
       "334           1     0\n",
       "1114          0     1\n",
       "1700          0     1\n",
       "1393          0     1\n",
       "1052          0     1\n",
       "\n",
       "[117 rows x 2 columns]"
      ]
     },
     "execution_count": 148,
     "metadata": {},
     "output_type": "execute_result"
    }
   ],
   "source": [
    "# 2nd iteration: Lemmatized word\n",
    "# Check the text in false prediction\n",
    "y_pred_2nd_lemma = logreg.predict(X_test_cvec)\n",
    "compare_y_df = pd.DataFrame(y_test)\n",
    "compare_y_df['pred'] = y_pred_2nd_lemma\n",
    "false_pred =  compare_y_df[compare_y_df['subreddit'] != compare_y_df['pred']]\n",
    "false_pred"
   ]
  },
  {
   "cell_type": "code",
   "execution_count": 149,
   "id": "a36abe49-371e-4694-8e0f-6d9ece6328b9",
   "metadata": {
    "scrolled": true
   },
   "outputs": [
    {
     "data": {
      "text/plain": [
       "[\"Edwin Lutyens' Marshcourt\",\n",
       " 'The Shard of London touching the clouds',\n",
       " 'How to add user defined properties to AutoCAD objects for export into Python?',\n",
       " 'Book/reading suggestion about mass produced architecture and expression?',\n",
       " 'What y think about this?',\n",
       " 'Nelson Mandela Monument in Amsterdam, Netherland.',\n",
       " 'Do you think text-to-image AI tools will benefit the work of architect?',\n",
       " 'Australian Embassy in Baghdad',\n",
       " \"who's your favorite architect and why?\",\n",
       " 'The abandoned Central Terminal in Buffalo, NY']"
      ]
     },
     "execution_count": 149,
     "metadata": {},
     "output_type": "execute_result"
    }
   ],
   "source": [
    "# Title of false positive (81)\n",
    "# Title from architecture, we predict it's from civil engineer.\n",
    "list(X[false_pred[false_pred['pred']==1].index])[:10]\n",
    "\n",
    "# Almost all of title in false positive case is hard to define the subreddit.\n",
    "# Some of titles have the cheating words that we removed it earier. "
   ]
  },
  {
   "cell_type": "code",
   "execution_count": 150,
   "id": "81558c1d-0d50-47e7-ad06-48220779f1ae",
   "metadata": {},
   "outputs": [
    {
     "data": {
      "text/plain": [
       "['If the Romans Built Brick Pavers',\n",
       " 'Who owns old Bell Telephone easements?',\n",
       " 'Best software for designing steel frame structures',\n",
       " 'Does anyone know the dimensions of this NY pipe coming from a building? ( I know it is an ask )',\n",
       " 'why is head difference and head loss b/w two reservoir is equal?',\n",
       " 'Looking for good online resource to find stress/strain curves for specific materials.',\n",
       " 'Foundation,building question.',\n",
       " 'Civil Engineering Universities in Europe',\n",
       " 'Practice',\n",
       " 'Architectural Marvels: Spectacular Rail Stations Around the World (Part 1)']"
      ]
     },
     "execution_count": 150,
     "metadata": {},
     "output_type": "execute_result"
    }
   ],
   "source": [
    "# Title of false negative (36)\n",
    "# Title from civil engineer, we predict it's from architecture.\n",
    "list(X[false_pred[false_pred['pred']==0].index])[:10]\n",
    "\n",
    "# Some of title in false negative case is hard to define the subreddit.\n",
    "# Some of titles have the cheating words that we removed it earier.\n",
    "# Some of titles have the content about civil engineer directly, for example,\n",
    "# 'Looking for good online resource to find stress/strain curves \n",
    "# for specific materials.'\n",
    "# The data that we collected may be not enough. "
   ]
  },
  {
   "cell_type": "markdown",
   "id": "2c5f9e55-d19b-4430-bc23-c2aac2e6c98b",
   "metadata": {},
   "source": [
    "### 2nd Iteration: Remove cheating word in model  (2)\n",
    "Since, the first model of 2nd iteration is worked, we will try Naive bayes model with the same parameter.\n",
    "\n",
    "Vectorizer: Countvectorizer\n",
    "\n",
    "3. Naive Bayes without lemmatized word\n",
    "4. Naive Bayes with lemmatized word"
   ]
  },
  {
   "cell_type": "code",
   "execution_count": 151,
   "id": "745c0247-b535-4494-8c0e-f801297e12b0",
   "metadata": {},
   "outputs": [
    {
     "name": "stdout",
     "output_type": "stream",
     "text": [
      "# Columns without lemmatized word: 3573\n",
      "Training accuracy: 0.9421\n",
      "Testing accuracy: 0.7865\n",
      "Testing f1 score:0.8112\n"
     ]
    },
    {
     "data": {
      "image/png": "[encoded data removed]",
      "text/plain": [
       "<Figure size 640x480 with 1 Axes>"
      ]
     },
     "metadata": {},
     "output_type": "display_data"
    }
   ],
   "source": [
    "# 2nd iteration: Naive bayes without lemmatized word\n",
    "cvec = CountVectorizer(stop_words=new_stopwords)\n",
    "X_train_cvec, X_test_cvec = get_X_vectorizer(cvec)\n",
    "print(f'# Columns without lemmatized word: {X_train_cvec.shape[1]}')\n",
    "\n",
    "# Fit or train the model\n",
    "nb = MultinomialNB()\n",
    "nb.fit(X_train_cvec,y_train)\n",
    "\n",
    "# Evaluation\n",
    "second_iter_3 = evaluation(nb, X_train_cvec, X_test_cvec)"
   ]
  },
  {
   "cell_type": "code",
   "execution_count": 152,
   "id": "5fad5103-e5e6-4b09-8d1b-f291be5982cd",
   "metadata": {},
   "outputs": [
    {
     "name": "stdout",
     "output_type": "stream",
     "text": [
      "# Columns with lemmatized word: 3027\n",
      "Training accuracy: 0.9612\n",
      "Testing accuracy: 0.7526\n",
      "Testing f1 score:0.7869\n"
     ]
    },
    {
     "data": {
      "image/png": "[encoded data removed]",
      "text/plain": [
       "<Figure size 640x480 with 1 Axes>"
      ]
     },
     "metadata": {},
     "output_type": "display_data"
    }
   ],
   "source": [
    "# 2nd iteration: Naive bayes with lemmatized word\n",
    "cvec = CountVectorizer(stop_words=new_stopwords,tokenizer=LemmaTokenizer())\n",
    "X_train_cvec, X_test_cvec = get_X_vectorizer(cvec)\n",
    "print(f'# Columns with lemmatized word: {X_train_cvec.shape[1]}')\n",
    "\n",
    "# Fit or train the model\n",
    "nb = LogisticRegression()\n",
    "nb.fit(X_train_cvec,y_train)\n",
    "\n",
    "# Evaluation\n",
    "second_iter_4 = evaluation(nb, X_train_cvec, X_test_cvec)"
   ]
  },
  {
   "cell_type": "markdown",
   "id": "c5f38d56-0610-41e0-8ff9-99501bd31ee3",
   "metadata": {},
   "source": [
    "### 2nd Iteration conclusion\n",
    "Vectorizer: Countvectorizer\n",
    "1. Logistic regression without lemmatized word\n",
    "2. Logistic regression with lemmatized word\n",
    "3. Naive Bayes without lemmatized word\n",
    "4. Naive Bayes with lemmatized word"
   ]
  },
  {
   "cell_type": "code",
   "execution_count": 153,
   "id": "9a36e700-8f54-462c-8d70-0d9bb678d756",
   "metadata": {},
   "outputs": [],
   "source": [
    "conclusion_2nd_iter = pd.DataFrame(columns=['training_accuracy',\n",
    "                                          'testing_accuracy',\n",
    "                                          'testing_f1_score'])"
   ]
  },
  {
   "cell_type": "code",
   "execution_count": 154,
   "id": "cccc4d33-8f92-480c-a38b-60e371c73290",
   "metadata": {},
   "outputs": [
    {
     "data": {
      "text/html": [
       "<div>\n",
       "<style scoped>\n",
       "    .dataframe tbody tr th:only-of-type {\n",
       "        vertical-align: middle;\n",
       "    }\n",
       "\n",
       "    .dataframe tbody tr th {\n",
       "        vertical-align: top;\n",
       "    }\n",
       "\n",
       "    .dataframe thead th {\n",
       "        text-align: right;\n",
       "    }\n",
       "</style>\n",
       "<table border=\"1\" class=\"dataframe\">\n",
       "  <thead>\n",
       "    <tr style=\"text-align: right;\">\n",
       "      <th></th>\n",
       "      <th>training_accuracy</th>\n",
       "      <th>testing_accuracy</th>\n",
       "      <th>testing_f1_score</th>\n",
       "    </tr>\n",
       "  </thead>\n",
       "  <tbody>\n",
       "    <tr>\n",
       "      <th>0</th>\n",
       "      <td>0.9788</td>\n",
       "      <td>0.7463</td>\n",
       "      <td>0.7818</td>\n",
       "    </tr>\n",
       "    <tr>\n",
       "      <th>1</th>\n",
       "      <td>0.9612</td>\n",
       "      <td>0.7526</td>\n",
       "      <td>0.7869</td>\n",
       "    </tr>\n",
       "    <tr>\n",
       "      <th>2</th>\n",
       "      <td>0.9421</td>\n",
       "      <td>0.7865</td>\n",
       "      <td>0.8112</td>\n",
       "    </tr>\n",
       "    <tr>\n",
       "      <th>3</th>\n",
       "      <td>0.9612</td>\n",
       "      <td>0.7526</td>\n",
       "      <td>0.7869</td>\n",
       "    </tr>\n",
       "  </tbody>\n",
       "</table>\n",
       "</div>"
      ],
      "text/plain": [
       "   training_accuracy  testing_accuracy  testing_f1_score\n",
       "0             0.9788            0.7463            0.7818\n",
       "1             0.9612            0.7526            0.7869\n",
       "2             0.9421            0.7865            0.8112\n",
       "3             0.9612            0.7526            0.7869"
      ]
     },
     "execution_count": 154,
     "metadata": {},
     "output_type": "execute_result"
    }
   ],
   "source": [
    "second_iter_list = [second_iter_1,second_iter_2,second_iter_3,second_iter_4]\n",
    "for i in range(4):\n",
    "    conclusion_2nd_iter.loc[i] = second_iter_list[i]\n",
    "conclusion_2nd_iter"
   ]
  },
  {
   "cell_type": "markdown",
   "id": "0c470d88-f981-412d-bdcb-af7ff437d03e",
   "metadata": {},
   "source": [
    "### 3rd iteration: Gridsearch and handle overfitting"
   ]
  },
  {
   "cell_type": "code",
   "execution_count": 155,
   "id": "4a49323f-92c7-40c6-afa8-a957afe02f20",
   "metadata": {},
   "outputs": [],
   "source": [
    "logreg_pipe = Pipeline([\n",
    "    ('cvec', CountVectorizer()),\n",
    "    ('logreg', LogisticRegression(penalty='l1', solver='liblinear'))\n",
    "])"
   ]
  },
  {
   "cell_type": "code",
   "execution_count": 156,
   "id": "289268b2-1e4e-4d0d-ae5f-e9e8ddc221b4",
   "metadata": {},
   "outputs": [],
   "source": [
    "logreg_pipe_params = {\n",
    "    'cvec__stop_words' : [new_stopwords],\n",
    "    'cvec__max_features' : [2000, 2500],\n",
    "    'cvec__min_df' : [1, 2],\n",
    "    'cvec__max_df' : [.8, .9],\n",
    "    'cvec__ngram_range' : [(1, 1)],\n",
    "    'cvec__tokenizer' : [LemmaTokenizer()]\n",
    "}"
   ]
  },
  {
   "cell_type": "code",
   "execution_count": 157,
   "id": "adcba5b2-5c36-46a4-84e5-23e6bdb08fcc",
   "metadata": {},
   "outputs": [
    {
     "data": {
      "text/html": [
       "<style>#sk-container-id-3 {color: black;background-color: white;}#sk-container-id-3 pre{padding: 0;}#sk-container-id-3 div.sk-toggleable {background-color: white;}#sk-container-id-3 label.sk-toggleable__label {cursor: pointer;display: block;width: 100%;margin-bottom: 0;padding: 0.3em;box-sizing: border-box;text-align: center;}#sk-container-id-3 label.sk-toggleable__label-arrow:before {content: \"▸\";float: left;margin-right: 0.25em;color: #696969;}#sk-container-id-3 label.sk-toggleable__label-arrow:hover:before {color: black;}#sk-container-id-3 div.sk-estimator:hover label.sk-toggleable__label-arrow:before {color: black;}#sk-container-id-3 div.sk-toggleable__content {max-height: 0;max-width: 0;overflow: hidden;text-align: left;background-color: #f0f8ff;}#sk-container-id-3 div.sk-toggleable__content pre {margin: 0.2em;color: black;border-radius: 0.25em;background-color: #f0f8ff;}#sk-container-id-3 input.sk-toggleable__control:checked~div.sk-toggleable__content {max-height: 200px;max-width: 100%;overflow: auto;}#sk-container-id-3 input.sk-toggleable__control:checked~label.sk-toggleable__label-arrow:before {content: \"▾\";}#sk-container-id-3 div.sk-estimator input.sk-toggleable__control:checked~label.sk-toggleable__label {background-color: #d4ebff;}#sk-container-id-3 div.sk-label input.sk-toggleable__control:checked~label.sk-toggleable__label {background-color: #d4ebff;}#sk-container-id-3 input.sk-hidden--visually {border: 0;clip: rect(1px 1px 1px 1px);clip: rect(1px, 1px, 1px, 1px);height: 1px;margin: -1px;overflow: hidden;padding: 0;position: absolute;width: 1px;}#sk-container-id-3 div.sk-estimator {font-family: monospace;background-color: #f0f8ff;border: 1px dotted black;border-radius: 0.25em;box-sizing: border-box;margin-bottom: 0.5em;}#sk-container-id-3 div.sk-estimator:hover {background-color: #d4ebff;}#sk-container-id-3 div.sk-parallel-item::after {content: \"\";width: 100%;border-bottom: 1px solid gray;flex-grow: 1;}#sk-container-id-3 div.sk-label:hover label.sk-toggleable__label {background-color: #d4ebff;}#sk-container-id-3 div.sk-serial::before {content: \"\";position: absolute;border-left: 1px solid gray;box-sizing: border-box;top: 0;bottom: 0;left: 50%;z-index: 0;}#sk-container-id-3 div.sk-serial {display: flex;flex-direction: column;align-items: center;background-color: white;padding-right: 0.2em;padding-left: 0.2em;position: relative;}#sk-container-id-3 div.sk-item {position: relative;z-index: 1;}#sk-container-id-3 div.sk-parallel {display: flex;align-items: stretch;justify-content: center;background-color: white;position: relative;}#sk-container-id-3 div.sk-item::before, #sk-container-id-3 div.sk-parallel-item::before {content: \"\";position: absolute;border-left: 1px solid gray;box-sizing: border-box;top: 0;bottom: 0;left: 50%;z-index: -1;}#sk-container-id-3 div.sk-parallel-item {display: flex;flex-direction: column;z-index: 1;position: relative;background-color: white;}#sk-container-id-3 div.sk-parallel-item:first-child::after {align-self: flex-end;width: 50%;}#sk-container-id-3 div.sk-parallel-item:last-child::after {align-self: flex-start;width: 50%;}#sk-container-id-3 div.sk-parallel-item:only-child::after {width: 0;}#sk-container-id-3 div.sk-dashed-wrapped {border: 1px dashed gray;margin: 0 0.4em 0.5em 0.4em;box-sizing: border-box;padding-bottom: 0.4em;background-color: white;}#sk-container-id-3 div.sk-label label {font-family: monospace;font-weight: bold;display: inline-block;line-height: 1.2em;}#sk-container-id-3 div.sk-label-container {text-align: center;}#sk-container-id-3 div.sk-container {/* jupyter's `normalize.less` sets `[hidden] { display: none; }` but bootstrap.min.css set `[hidden] { display: none !important; }` so we also need the `!important` here to be able to override the default hidden behavior on the sphinx rendered scikit-learn.org. See: https://github.com/scikit-learn/scikit-learn/issues/21755 */display: inline-block !important;position: relative;}#sk-container-id-3 div.sk-text-repr-fallback {display: none;}</style><div id=\"sk-container-id-3\" class=\"sk-top-container\"><div class=\"sk-text-repr-fallback\"><pre>GridSearchCV(cv=5,\n",
       "             estimator=Pipeline(steps=[(&#x27;cvec&#x27;, CountVectorizer()),\n",
       "                                       (&#x27;logreg&#x27;,\n",
       "                                        LogisticRegression(penalty=&#x27;l1&#x27;,\n",
       "                                                           solver=&#x27;liblinear&#x27;))]),\n",
       "             param_grid={&#x27;cvec__max_df&#x27;: [0.8, 0.9],\n",
       "                         &#x27;cvec__max_features&#x27;: [2000, 2500],\n",
       "                         &#x27;cvec__min_df&#x27;: [1, 2], &#x27;cvec__ngram_range&#x27;: [(1, 1)],\n",
       "                         &#x27;cvec__stop_words&#x27;: [[&#x27;i&#x27;, &#x27;me&#x27;, &#x27;my&#x27;, &#x27;myself&#x27;, &#x27;we&#x27;,\n",
       "                                               &#x27;our&#x27;, &#x27;ours&#x27;, &#x27;ourselves&#x27;,\n",
       "                                               &#x27;you&#x27;, &quot;you&#x27;re&quot;, &quot;you&#x27;ve&quot;,\n",
       "                                               &quot;you&#x27;ll&quot;, &quot;you&#x27;d&quot;, &#x27;your&#x27;,\n",
       "                                               &#x27;yours&#x27;, &#x27;yourself&#x27;,\n",
       "                                               &#x27;yourselves&#x27;, &#x27;he&#x27;, &#x27;him&#x27;, &#x27;his&#x27;,\n",
       "                                               &#x27;himself&#x27;, &#x27;she&#x27;, &quot;she&#x27;s&quot;, &#x27;her&#x27;,\n",
       "                                               &#x27;hers&#x27;, &#x27;herself&#x27;, &#x27;it&#x27;, &quot;it&#x27;s&quot;,\n",
       "                                               &#x27;its&#x27;, &#x27;itself&#x27;, ...]],\n",
       "                         &#x27;cvec__tokenizer&#x27;: [&lt;__main__.LemmaTokenizer object at 0x00000189CAA8E760&gt;]})</pre><b>In a Jupyter environment, please rerun this cell to show the HTML representation or trust the notebook. <br />On GitHub, the HTML representation is unable to render, please try loading this page with nbviewer.org.</b></div><div class=\"sk-container\" hidden><div class=\"sk-item sk-dashed-wrapped\"><div class=\"sk-label-container\"><div class=\"sk-label sk-toggleable\"><input class=\"sk-toggleable__control sk-hidden--visually\" id=\"sk-estimator-id-9\" type=\"checkbox\" ><label for=\"sk-estimator-id-9\" class=\"sk-toggleable__label sk-toggleable__label-arrow\">GridSearchCV</label><div class=\"sk-toggleable__content\"><pre>GridSearchCV(cv=5,\n",
       "             estimator=Pipeline(steps=[(&#x27;cvec&#x27;, CountVectorizer()),\n",
       "                                       (&#x27;logreg&#x27;,\n",
       "                                        LogisticRegression(penalty=&#x27;l1&#x27;,\n",
       "                                                           solver=&#x27;liblinear&#x27;))]),\n",
       "             param_grid={&#x27;cvec__max_df&#x27;: [0.8, 0.9],\n",
       "                         &#x27;cvec__max_features&#x27;: [2000, 2500],\n",
       "                         &#x27;cvec__min_df&#x27;: [1, 2], &#x27;cvec__ngram_range&#x27;: [(1, 1)],\n",
       "                         &#x27;cvec__stop_words&#x27;: [[&#x27;i&#x27;, &#x27;me&#x27;, &#x27;my&#x27;, &#x27;myself&#x27;, &#x27;we&#x27;,\n",
       "                                               &#x27;our&#x27;, &#x27;ours&#x27;, &#x27;ourselves&#x27;,\n",
       "                                               &#x27;you&#x27;, &quot;you&#x27;re&quot;, &quot;you&#x27;ve&quot;,\n",
       "                                               &quot;you&#x27;ll&quot;, &quot;you&#x27;d&quot;, &#x27;your&#x27;,\n",
       "                                               &#x27;yours&#x27;, &#x27;yourself&#x27;,\n",
       "                                               &#x27;yourselves&#x27;, &#x27;he&#x27;, &#x27;him&#x27;, &#x27;his&#x27;,\n",
       "                                               &#x27;himself&#x27;, &#x27;she&#x27;, &quot;she&#x27;s&quot;, &#x27;her&#x27;,\n",
       "                                               &#x27;hers&#x27;, &#x27;herself&#x27;, &#x27;it&#x27;, &quot;it&#x27;s&quot;,\n",
       "                                               &#x27;its&#x27;, &#x27;itself&#x27;, ...]],\n",
       "                         &#x27;cvec__tokenizer&#x27;: [&lt;__main__.LemmaTokenizer object at 0x00000189CAA8E760&gt;]})</pre></div></div></div><div class=\"sk-parallel\"><div class=\"sk-parallel-item\"><div class=\"sk-item\"><div class=\"sk-label-container\"><div class=\"sk-label sk-toggleable\"><input class=\"sk-toggleable__control sk-hidden--visually\" id=\"sk-estimator-id-10\" type=\"checkbox\" ><label for=\"sk-estimator-id-10\" class=\"sk-toggleable__label sk-toggleable__label-arrow\">estimator: Pipeline</label><div class=\"sk-toggleable__content\"><pre>Pipeline(steps=[(&#x27;cvec&#x27;, CountVectorizer()),\n",
       "                (&#x27;logreg&#x27;,\n",
       "                 LogisticRegression(penalty=&#x27;l1&#x27;, solver=&#x27;liblinear&#x27;))])</pre></div></div></div><div class=\"sk-serial\"><div class=\"sk-item\"><div class=\"sk-serial\"><div class=\"sk-item\"><div class=\"sk-estimator sk-toggleable\"><input class=\"sk-toggleable__control sk-hidden--visually\" id=\"sk-estimator-id-11\" type=\"checkbox\" ><label for=\"sk-estimator-id-11\" class=\"sk-toggleable__label sk-toggleable__label-arrow\">CountVectorizer</label><div class=\"sk-toggleable__content\"><pre>CountVectorizer()</pre></div></div></div><div class=\"sk-item\"><div class=\"sk-estimator sk-toggleable\"><input class=\"sk-toggleable__control sk-hidden--visually\" id=\"sk-estimator-id-12\" type=\"checkbox\" ><label for=\"sk-estimator-id-12\" class=\"sk-toggleable__label sk-toggleable__label-arrow\">LogisticRegression</label><div class=\"sk-toggleable__content\"><pre>LogisticRegression(penalty=&#x27;l1&#x27;, solver=&#x27;liblinear&#x27;)</pre></div></div></div></div></div></div></div></div></div></div></div></div>"
      ],
      "text/plain": [
       "GridSearchCV(cv=5,\n",
       "             estimator=Pipeline(steps=[('cvec', CountVectorizer()),\n",
       "                                       ('logreg',\n",
       "                                        LogisticRegression(penalty='l1',\n",
       "                                                           solver='liblinear'))]),\n",
       "             param_grid={'cvec__max_df': [0.8, 0.9],\n",
       "                         'cvec__max_features': [2000, 2500],\n",
       "                         'cvec__min_df': [1, 2], 'cvec__ngram_range': [(1, 1)],\n",
       "                         'cvec__stop_words': [['i', 'me', 'my', 'myself', 'we',\n",
       "                                               'our', 'ours', 'ourselves',\n",
       "                                               'you', \"you're\", \"you've\",\n",
       "                                               \"you'll\", \"you'd\", 'your',\n",
       "                                               'yours', 'yourself',\n",
       "                                               'yourselves', 'he', 'him', 'his',\n",
       "                                               'himself', 'she', \"she's\", 'her',\n",
       "                                               'hers', 'herself', 'it', \"it's\",\n",
       "                                               'its', 'itself', ...]],\n",
       "                         'cvec__tokenizer': [<__main__.LemmaTokenizer object at 0x00000189CAA8E760>]})"
      ]
     },
     "execution_count": 157,
     "metadata": {},
     "output_type": "execute_result"
    }
   ],
   "source": [
    "# Instantiate GridSearchCV.\n",
    "gs = GridSearchCV(logreg_pipe, #\n",
    "                  param_grid = logreg_pipe_params,\n",
    "                  cv=5) \n",
    "gs.fit(X_train, y_train)"
   ]
  },
  {
   "cell_type": "code",
   "execution_count": 158,
   "id": "30274821-11a9-4c5c-a96f-b13902a10ce9",
   "metadata": {},
   "outputs": [
    {
     "name": "stdout",
     "output_type": "stream",
     "text": [
      "Training accuracy: 0.8305\n",
      "Testing accuracy: 0.685\n",
      "Testing f1 score:0.7427\n"
     ]
    },
    {
     "data": {
      "text/plain": [
       "[0.8305, 0.685, 0.7427]"
      ]
     },
     "execution_count": 158,
     "metadata": {},
     "output_type": "execute_result"
    },
    {
     "data": {
      "image/png": "[encoded data removed]",
      "text/plain": [
       "<Figure size 640x480 with 1 Axes>"
      ]
     },
     "metadata": {},
     "output_type": "display_data"
    }
   ],
   "source": [
    "third_iter_1 = evaluation(gs, X_train, X_test)"
   ]
  },
  {
   "cell_type": "markdown",
   "id": "b78238e4-e2cd-4fbf-9b52-a6074d3c315b",
   "metadata": {},
   "source": [
    "#### Naive Bayes"
   ]
  },
  {
   "cell_type": "code",
   "execution_count": 159,
   "id": "3bf867fa-4a51-4fe6-9cb9-ec2525ed65db",
   "metadata": {},
   "outputs": [],
   "source": [
    "nb_pipe = Pipeline([\n",
    "    ('cvec', CountVectorizer(stop_words=new_stopwords)),\n",
    "    ('nb', MultinomialNB())\n",
    "])"
   ]
  },
  {
   "cell_type": "code",
   "execution_count": 160,
   "id": "7918241d-f1bc-4562-877f-cc0b23edfab8",
   "metadata": {},
   "outputs": [],
   "source": [
    "nb_pipe_params = {\n",
    "    'cvec__max_features' : [2000, 2500],\n",
    "    'cvec__min_df' : [1, 2],\n",
    "    'cvec__max_df' : [.8, .9],\n",
    "    'cvec__ngram_range' : [(1, 1)],\n",
    "    'cvec__tokenizer' : [None, LemmaTokenizer()]\n",
    "}"
   ]
  },
  {
   "cell_type": "code",
   "execution_count": 161,
   "id": "7b60b5b8-5276-44b4-8cd4-e17d2a5a01b9",
   "metadata": {},
   "outputs": [
    {
     "data": {
      "text/html": [
       "<style>#sk-container-id-4 {color: black;background-color: white;}#sk-container-id-4 pre{padding: 0;}#sk-container-id-4 div.sk-toggleable {background-color: white;}#sk-container-id-4 label.sk-toggleable__label {cursor: pointer;display: block;width: 100%;margin-bottom: 0;padding: 0.3em;box-sizing: border-box;text-align: center;}#sk-container-id-4 label.sk-toggleable__label-arrow:before {content: \"▸\";float: left;margin-right: 0.25em;color: #696969;}#sk-container-id-4 label.sk-toggleable__label-arrow:hover:before {color: black;}#sk-container-id-4 div.sk-estimator:hover label.sk-toggleable__label-arrow:before {color: black;}#sk-container-id-4 div.sk-toggleable__content {max-height: 0;max-width: 0;overflow: hidden;text-align: left;background-color: #f0f8ff;}#sk-container-id-4 div.sk-toggleable__content pre {margin: 0.2em;color: black;border-radius: 0.25em;background-color: #f0f8ff;}#sk-container-id-4 input.sk-toggleable__control:checked~div.sk-toggleable__content {max-height: 200px;max-width: 100%;overflow: auto;}#sk-container-id-4 input.sk-toggleable__control:checked~label.sk-toggleable__label-arrow:before {content: \"▾\";}#sk-container-id-4 div.sk-estimator input.sk-toggleable__control:checked~label.sk-toggleable__label {background-color: #d4ebff;}#sk-container-id-4 div.sk-label input.sk-toggleable__control:checked~label.sk-toggleable__label {background-color: #d4ebff;}#sk-container-id-4 input.sk-hidden--visually {border: 0;clip: rect(1px 1px 1px 1px);clip: rect(1px, 1px, 1px, 1px);height: 1px;margin: -1px;overflow: hidden;padding: 0;position: absolute;width: 1px;}#sk-container-id-4 div.sk-estimator {font-family: monospace;background-color: #f0f8ff;border: 1px dotted black;border-radius: 0.25em;box-sizing: border-box;margin-bottom: 0.5em;}#sk-container-id-4 div.sk-estimator:hover {background-color: #d4ebff;}#sk-container-id-4 div.sk-parallel-item::after {content: \"\";width: 100%;border-bottom: 1px solid gray;flex-grow: 1;}#sk-container-id-4 div.sk-label:hover label.sk-toggleable__label {background-color: #d4ebff;}#sk-container-id-4 div.sk-serial::before {content: \"\";position: absolute;border-left: 1px solid gray;box-sizing: border-box;top: 0;bottom: 0;left: 50%;z-index: 0;}#sk-container-id-4 div.sk-serial {display: flex;flex-direction: column;align-items: center;background-color: white;padding-right: 0.2em;padding-left: 0.2em;position: relative;}#sk-container-id-4 div.sk-item {position: relative;z-index: 1;}#sk-container-id-4 div.sk-parallel {display: flex;align-items: stretch;justify-content: center;background-color: white;position: relative;}#sk-container-id-4 div.sk-item::before, #sk-container-id-4 div.sk-parallel-item::before {content: \"\";position: absolute;border-left: 1px solid gray;box-sizing: border-box;top: 0;bottom: 0;left: 50%;z-index: -1;}#sk-container-id-4 div.sk-parallel-item {display: flex;flex-direction: column;z-index: 1;position: relative;background-color: white;}#sk-container-id-4 div.sk-parallel-item:first-child::after {align-self: flex-end;width: 50%;}#sk-container-id-4 div.sk-parallel-item:last-child::after {align-self: flex-start;width: 50%;}#sk-container-id-4 div.sk-parallel-item:only-child::after {width: 0;}#sk-container-id-4 div.sk-dashed-wrapped {border: 1px dashed gray;margin: 0 0.4em 0.5em 0.4em;box-sizing: border-box;padding-bottom: 0.4em;background-color: white;}#sk-container-id-4 div.sk-label label {font-family: monospace;font-weight: bold;display: inline-block;line-height: 1.2em;}#sk-container-id-4 div.sk-label-container {text-align: center;}#sk-container-id-4 div.sk-container {/* jupyter's `normalize.less` sets `[hidden] { display: none; }` but bootstrap.min.css set `[hidden] { display: none !important; }` so we also need the `!important` here to be able to override the default hidden behavior on the sphinx rendered scikit-learn.org. See: https://github.com/scikit-learn/scikit-learn/issues/21755 */display: inline-block !important;position: relative;}#sk-container-id-4 div.sk-text-repr-fallback {display: none;}</style><div id=\"sk-container-id-4\" class=\"sk-top-container\"><div class=\"sk-text-repr-fallback\"><pre>GridSearchCV(cv=5,\n",
       "             estimator=Pipeline(steps=[(&#x27;cvec&#x27;,\n",
       "                                        CountVectorizer(stop_words=[&#x27;i&#x27;, &#x27;me&#x27;,\n",
       "                                                                    &#x27;my&#x27;,\n",
       "                                                                    &#x27;myself&#x27;,\n",
       "                                                                    &#x27;we&#x27;, &#x27;our&#x27;,\n",
       "                                                                    &#x27;ours&#x27;,\n",
       "                                                                    &#x27;ourselves&#x27;,\n",
       "                                                                    &#x27;you&#x27;,\n",
       "                                                                    &quot;you&#x27;re&quot;,\n",
       "                                                                    &quot;you&#x27;ve&quot;,\n",
       "                                                                    &quot;you&#x27;ll&quot;,\n",
       "                                                                    &quot;you&#x27;d&quot;,\n",
       "                                                                    &#x27;your&#x27;,\n",
       "                                                                    &#x27;yours&#x27;,\n",
       "                                                                    &#x27;yourself&#x27;,\n",
       "                                                                    &#x27;yourselves&#x27;,\n",
       "                                                                    &#x27;he&#x27;, &#x27;him&#x27;,\n",
       "                                                                    &#x27;his&#x27;,\n",
       "                                                                    &#x27;himself&#x27;,\n",
       "                                                                    &#x27;she&#x27;,\n",
       "                                                                    &quot;she&#x27;s&quot;,\n",
       "                                                                    &#x27;her&#x27;,\n",
       "                                                                    &#x27;hers&#x27;,\n",
       "                                                                    &#x27;herself&#x27;,\n",
       "                                                                    &#x27;it&#x27;,\n",
       "                                                                    &quot;it&#x27;s&quot;,\n",
       "                                                                    &#x27;its&#x27;,\n",
       "                                                                    &#x27;itself&#x27;, ...])),\n",
       "                                       (&#x27;nb&#x27;, MultinomialNB())]),\n",
       "             param_grid={&#x27;cvec__max_df&#x27;: [0.8, 0.9],\n",
       "                         &#x27;cvec__max_features&#x27;: [2000, 2500],\n",
       "                         &#x27;cvec__min_df&#x27;: [1, 2], &#x27;cvec__ngram_range&#x27;: [(1, 1)],\n",
       "                         &#x27;cvec__tokenizer&#x27;: [None,\n",
       "                                             &lt;__main__.LemmaTokenizer object at 0x00000189CA9749A0&gt;]})</pre><b>In a Jupyter environment, please rerun this cell to show the HTML representation or trust the notebook. <br />On GitHub, the HTML representation is unable to render, please try loading this page with nbviewer.org.</b></div><div class=\"sk-container\" hidden><div class=\"sk-item sk-dashed-wrapped\"><div class=\"sk-label-container\"><div class=\"sk-label sk-toggleable\"><input class=\"sk-toggleable__control sk-hidden--visually\" id=\"sk-estimator-id-13\" type=\"checkbox\" ><label for=\"sk-estimator-id-13\" class=\"sk-toggleable__label sk-toggleable__label-arrow\">GridSearchCV</label><div class=\"sk-toggleable__content\"><pre>GridSearchCV(cv=5,\n",
       "             estimator=Pipeline(steps=[(&#x27;cvec&#x27;,\n",
       "                                        CountVectorizer(stop_words=[&#x27;i&#x27;, &#x27;me&#x27;,\n",
       "                                                                    &#x27;my&#x27;,\n",
       "                                                                    &#x27;myself&#x27;,\n",
       "                                                                    &#x27;we&#x27;, &#x27;our&#x27;,\n",
       "                                                                    &#x27;ours&#x27;,\n",
       "                                                                    &#x27;ourselves&#x27;,\n",
       "                                                                    &#x27;you&#x27;,\n",
       "                                                                    &quot;you&#x27;re&quot;,\n",
       "                                                                    &quot;you&#x27;ve&quot;,\n",
       "                                                                    &quot;you&#x27;ll&quot;,\n",
       "                                                                    &quot;you&#x27;d&quot;,\n",
       "                                                                    &#x27;your&#x27;,\n",
       "                                                                    &#x27;yours&#x27;,\n",
       "                                                                    &#x27;yourself&#x27;,\n",
       "                                                                    &#x27;yourselves&#x27;,\n",
       "                                                                    &#x27;he&#x27;, &#x27;him&#x27;,\n",
       "                                                                    &#x27;his&#x27;,\n",
       "                                                                    &#x27;himself&#x27;,\n",
       "                                                                    &#x27;she&#x27;,\n",
       "                                                                    &quot;she&#x27;s&quot;,\n",
       "                                                                    &#x27;her&#x27;,\n",
       "                                                                    &#x27;hers&#x27;,\n",
       "                                                                    &#x27;herself&#x27;,\n",
       "                                                                    &#x27;it&#x27;,\n",
       "                                                                    &quot;it&#x27;s&quot;,\n",
       "                                                                    &#x27;its&#x27;,\n",
       "                                                                    &#x27;itself&#x27;, ...])),\n",
       "                                       (&#x27;nb&#x27;, MultinomialNB())]),\n",
       "             param_grid={&#x27;cvec__max_df&#x27;: [0.8, 0.9],\n",
       "                         &#x27;cvec__max_features&#x27;: [2000, 2500],\n",
       "                         &#x27;cvec__min_df&#x27;: [1, 2], &#x27;cvec__ngram_range&#x27;: [(1, 1)],\n",
       "                         &#x27;cvec__tokenizer&#x27;: [None,\n",
       "                                             &lt;__main__.LemmaTokenizer object at 0x00000189CA9749A0&gt;]})</pre></div></div></div><div class=\"sk-parallel\"><div class=\"sk-parallel-item\"><div class=\"sk-item\"><div class=\"sk-label-container\"><div class=\"sk-label sk-toggleable\"><input class=\"sk-toggleable__control sk-hidden--visually\" id=\"sk-estimator-id-14\" type=\"checkbox\" ><label for=\"sk-estimator-id-14\" class=\"sk-toggleable__label sk-toggleable__label-arrow\">estimator: Pipeline</label><div class=\"sk-toggleable__content\"><pre>Pipeline(steps=[(&#x27;cvec&#x27;,\n",
       "                 CountVectorizer(stop_words=[&#x27;i&#x27;, &#x27;me&#x27;, &#x27;my&#x27;, &#x27;myself&#x27;, &#x27;we&#x27;,\n",
       "                                             &#x27;our&#x27;, &#x27;ours&#x27;, &#x27;ourselves&#x27;, &#x27;you&#x27;,\n",
       "                                             &quot;you&#x27;re&quot;, &quot;you&#x27;ve&quot;, &quot;you&#x27;ll&quot;,\n",
       "                                             &quot;you&#x27;d&quot;, &#x27;your&#x27;, &#x27;yours&#x27;,\n",
       "                                             &#x27;yourself&#x27;, &#x27;yourselves&#x27;, &#x27;he&#x27;,\n",
       "                                             &#x27;him&#x27;, &#x27;his&#x27;, &#x27;himself&#x27;, &#x27;she&#x27;,\n",
       "                                             &quot;she&#x27;s&quot;, &#x27;her&#x27;, &#x27;hers&#x27;, &#x27;herself&#x27;,\n",
       "                                             &#x27;it&#x27;, &quot;it&#x27;s&quot;, &#x27;its&#x27;, &#x27;itself&#x27;, ...])),\n",
       "                (&#x27;nb&#x27;, MultinomialNB())])</pre></div></div></div><div class=\"sk-serial\"><div class=\"sk-item\"><div class=\"sk-serial\"><div class=\"sk-item\"><div class=\"sk-estimator sk-toggleable\"><input class=\"sk-toggleable__control sk-hidden--visually\" id=\"sk-estimator-id-15\" type=\"checkbox\" ><label for=\"sk-estimator-id-15\" class=\"sk-toggleable__label sk-toggleable__label-arrow\">CountVectorizer</label><div class=\"sk-toggleable__content\"><pre>CountVectorizer(stop_words=[&#x27;i&#x27;, &#x27;me&#x27;, &#x27;my&#x27;, &#x27;myself&#x27;, &#x27;we&#x27;, &#x27;our&#x27;, &#x27;ours&#x27;,\n",
       "                            &#x27;ourselves&#x27;, &#x27;you&#x27;, &quot;you&#x27;re&quot;, &quot;you&#x27;ve&quot;, &quot;you&#x27;ll&quot;,\n",
       "                            &quot;you&#x27;d&quot;, &#x27;your&#x27;, &#x27;yours&#x27;, &#x27;yourself&#x27;, &#x27;yourselves&#x27;,\n",
       "                            &#x27;he&#x27;, &#x27;him&#x27;, &#x27;his&#x27;, &#x27;himself&#x27;, &#x27;she&#x27;, &quot;she&#x27;s&quot;,\n",
       "                            &#x27;her&#x27;, &#x27;hers&#x27;, &#x27;herself&#x27;, &#x27;it&#x27;, &quot;it&#x27;s&quot;, &#x27;its&#x27;,\n",
       "                            &#x27;itself&#x27;, ...])</pre></div></div></div><div class=\"sk-item\"><div class=\"sk-estimator sk-toggleable\"><input class=\"sk-toggleable__control sk-hidden--visually\" id=\"sk-estimator-id-16\" type=\"checkbox\" ><label for=\"sk-estimator-id-16\" class=\"sk-toggleable__label sk-toggleable__label-arrow\">MultinomialNB</label><div class=\"sk-toggleable__content\"><pre>MultinomialNB()</pre></div></div></div></div></div></div></div></div></div></div></div></div>"
      ],
      "text/plain": [
       "GridSearchCV(cv=5,\n",
       "             estimator=Pipeline(steps=[('cvec',\n",
       "                                        CountVectorizer(stop_words=['i', 'me',\n",
       "                                                                    'my',\n",
       "                                                                    'myself',\n",
       "                                                                    'we', 'our',\n",
       "                                                                    'ours',\n",
       "                                                                    'ourselves',\n",
       "                                                                    'you',\n",
       "                                                                    \"you're\",\n",
       "                                                                    \"you've\",\n",
       "                                                                    \"you'll\",\n",
       "                                                                    \"you'd\",\n",
       "                                                                    'your',\n",
       "                                                                    'yours',\n",
       "                                                                    'yourself',\n",
       "                                                                    'yourselves',\n",
       "                                                                    'he', 'him',\n",
       "                                                                    'his',\n",
       "                                                                    'himself',\n",
       "                                                                    'she',\n",
       "                                                                    \"she's\",\n",
       "                                                                    'her',\n",
       "                                                                    'hers',\n",
       "                                                                    'herself',\n",
       "                                                                    'it',\n",
       "                                                                    \"it's\",\n",
       "                                                                    'its',\n",
       "                                                                    'itself', ...])),\n",
       "                                       ('nb', MultinomialNB())]),\n",
       "             param_grid={'cvec__max_df': [0.8, 0.9],\n",
       "                         'cvec__max_features': [2000, 2500],\n",
       "                         'cvec__min_df': [1, 2], 'cvec__ngram_range': [(1, 1)],\n",
       "                         'cvec__tokenizer': [None,\n",
       "                                             <__main__.LemmaTokenizer object at 0x00000189CA9749A0>]})"
      ]
     },
     "execution_count": 161,
     "metadata": {},
     "output_type": "execute_result"
    }
   ],
   "source": [
    "# Instantiate GridSearchCV.\n",
    "nb_gs = GridSearchCV(nb_pipe, #\n",
    "                  param_grid = nb_pipe_params,\n",
    "                  cv=5) \n",
    "nb_gs.fit(X_train, y_train)"
   ]
  },
  {
   "cell_type": "code",
   "execution_count": 162,
   "id": "61dbcacf-6b3b-4dc4-8b85-42dc95227185",
   "metadata": {},
   "outputs": [
    {
     "name": "stdout",
     "output_type": "stream",
     "text": [
      "Training accuracy: 0.9188\n",
      "Testing accuracy: 0.7738\n",
      "Testing f1 score:0.8022\n"
     ]
    },
    {
     "data": {
      "text/plain": [
       "[0.9188, 0.7738, 0.8022]"
      ]
     },
     "execution_count": 162,
     "metadata": {},
     "output_type": "execute_result"
    },
    {
     "data": {
      "image/png": "[encoded data removed]",
      "text/plain": [
       "<Figure size 640x480 with 1 Axes>"
      ]
     },
     "metadata": {},
     "output_type": "display_data"
    }
   ],
   "source": [
    "third_iter_2 = evaluation(nb_gs, X_train, X_test)"
   ]
  },
  {
   "cell_type": "markdown",
   "id": "5f817e52-3c8f-453f-b010-961d3d2ff9a1",
   "metadata": {},
   "source": [
    "### 4th Iteration: Other Classifier models"
   ]
  },
  {
   "cell_type": "markdown",
   "id": "b0a88a27-4aed-4575-83ac-1e09a9a8bfc1",
   "metadata": {},
   "source": [
    "#### Random Forest"
   ]
  },
  {
   "cell_type": "code",
   "execution_count": 176,
   "id": "f74a46f9-9c28-4911-b7c0-5f626c066763",
   "metadata": {},
   "outputs": [],
   "source": [
    "# Random Forest \n",
    "rf_pipe = Pipeline([\n",
    "    ('cvec', CountVectorizer()),\n",
    "    ('rf', RandomForestClassifier())\n",
    "])"
   ]
  },
  {
   "cell_type": "code",
   "execution_count": 177,
   "id": "5ea22bf1-a073-47bb-b5a0-3e05473fa260",
   "metadata": {},
   "outputs": [],
   "source": [
    "rf_pipe_params = {\n",
    "    'cvec__max_features' : [2000, 2500],\n",
    "    'cvec__min_df' : [1, 2],\n",
    "    'cvec__max_df' : [.8, .9],\n",
    "    'cvec__ngram_range' : [(1, 1)],\n",
    "    'cvec__tokenizer' : [None, LemmaTokenizer()],\n",
    "    'rf__max_depth' : [5, 10, 15],\n",
    "    'rf__n_estimators' : [100, 150, 200]\n",
    "}"
   ]
  },
  {
   "cell_type": "code",
   "execution_count": 178,
   "id": "0cc2baea-ca26-4416-b8cd-718b3c75ffdc",
   "metadata": {},
   "outputs": [
    {
     "data": {
      "text/html": [
       "<style>#sk-container-id-6 {color: black;background-color: white;}#sk-container-id-6 pre{padding: 0;}#sk-container-id-6 div.sk-toggleable {background-color: white;}#sk-container-id-6 label.sk-toggleable__label {cursor: pointer;display: block;width: 100%;margin-bottom: 0;padding: 0.3em;box-sizing: border-box;text-align: center;}#sk-container-id-6 label.sk-toggleable__label-arrow:before {content: \"▸\";float: left;margin-right: 0.25em;color: #696969;}#sk-container-id-6 label.sk-toggleable__label-arrow:hover:before {color: black;}#sk-container-id-6 div.sk-estimator:hover label.sk-toggleable__label-arrow:before {color: black;}#sk-container-id-6 div.sk-toggleable__content {max-height: 0;max-width: 0;overflow: hidden;text-align: left;background-color: #f0f8ff;}#sk-container-id-6 div.sk-toggleable__content pre {margin: 0.2em;color: black;border-radius: 0.25em;background-color: #f0f8ff;}#sk-container-id-6 input.sk-toggleable__control:checked~div.sk-toggleable__content {max-height: 200px;max-width: 100%;overflow: auto;}#sk-container-id-6 input.sk-toggleable__control:checked~label.sk-toggleable__label-arrow:before {content: \"▾\";}#sk-container-id-6 div.sk-estimator input.sk-toggleable__control:checked~label.sk-toggleable__label {background-color: #d4ebff;}#sk-container-id-6 div.sk-label input.sk-toggleable__control:checked~label.sk-toggleable__label {background-color: #d4ebff;}#sk-container-id-6 input.sk-hidden--visually {border: 0;clip: rect(1px 1px 1px 1px);clip: rect(1px, 1px, 1px, 1px);height: 1px;margin: -1px;overflow: hidden;padding: 0;position: absolute;width: 1px;}#sk-container-id-6 div.sk-estimator {font-family: monospace;background-color: #f0f8ff;border: 1px dotted black;border-radius: 0.25em;box-sizing: border-box;margin-bottom: 0.5em;}#sk-container-id-6 div.sk-estimator:hover {background-color: #d4ebff;}#sk-container-id-6 div.sk-parallel-item::after {content: \"\";width: 100%;border-bottom: 1px solid gray;flex-grow: 1;}#sk-container-id-6 div.sk-label:hover label.sk-toggleable__label {background-color: #d4ebff;}#sk-container-id-6 div.sk-serial::before {content: \"\";position: absolute;border-left: 1px solid gray;box-sizing: border-box;top: 0;bottom: 0;left: 50%;z-index: 0;}#sk-container-id-6 div.sk-serial {display: flex;flex-direction: column;align-items: center;background-color: white;padding-right: 0.2em;padding-left: 0.2em;position: relative;}#sk-container-id-6 div.sk-item {position: relative;z-index: 1;}#sk-container-id-6 div.sk-parallel {display: flex;align-items: stretch;justify-content: center;background-color: white;position: relative;}#sk-container-id-6 div.sk-item::before, #sk-container-id-6 div.sk-parallel-item::before {content: \"\";position: absolute;border-left: 1px solid gray;box-sizing: border-box;top: 0;bottom: 0;left: 50%;z-index: -1;}#sk-container-id-6 div.sk-parallel-item {display: flex;flex-direction: column;z-index: 1;position: relative;background-color: white;}#sk-container-id-6 div.sk-parallel-item:first-child::after {align-self: flex-end;width: 50%;}#sk-container-id-6 div.sk-parallel-item:last-child::after {align-self: flex-start;width: 50%;}#sk-container-id-6 div.sk-parallel-item:only-child::after {width: 0;}#sk-container-id-6 div.sk-dashed-wrapped {border: 1px dashed gray;margin: 0 0.4em 0.5em 0.4em;box-sizing: border-box;padding-bottom: 0.4em;background-color: white;}#sk-container-id-6 div.sk-label label {font-family: monospace;font-weight: bold;display: inline-block;line-height: 1.2em;}#sk-container-id-6 div.sk-label-container {text-align: center;}#sk-container-id-6 div.sk-container {/* jupyter's `normalize.less` sets `[hidden] { display: none; }` but bootstrap.min.css set `[hidden] { display: none !important; }` so we also need the `!important` here to be able to override the default hidden behavior on the sphinx rendered scikit-learn.org. See: https://github.com/scikit-learn/scikit-learn/issues/21755 */display: inline-block !important;position: relative;}#sk-container-id-6 div.sk-text-repr-fallback {display: none;}</style><div id=\"sk-container-id-6\" class=\"sk-top-container\"><div class=\"sk-text-repr-fallback\"><pre>GridSearchCV(cv=5,\n",
       "             estimator=Pipeline(steps=[(&#x27;cvec&#x27;, CountVectorizer()),\n",
       "                                       (&#x27;rf&#x27;, RandomForestClassifier())]),\n",
       "             param_grid={&#x27;cvec__max_df&#x27;: [0.8, 0.9],\n",
       "                         &#x27;cvec__max_features&#x27;: [2000, 2500],\n",
       "                         &#x27;cvec__min_df&#x27;: [1, 2], &#x27;cvec__ngram_range&#x27;: [(1, 1)],\n",
       "                         &#x27;cvec__tokenizer&#x27;: [None,\n",
       "                                             &lt;__main__.LemmaTokenizer object at 0x00000189CC335F10&gt;],\n",
       "                         &#x27;rf__max_depth&#x27;: [5, 10, 15],\n",
       "                         &#x27;rf__n_estimators&#x27;: [100, 150, 200]})</pre><b>In a Jupyter environment, please rerun this cell to show the HTML representation or trust the notebook. <br />On GitHub, the HTML representation is unable to render, please try loading this page with nbviewer.org.</b></div><div class=\"sk-container\" hidden><div class=\"sk-item sk-dashed-wrapped\"><div class=\"sk-label-container\"><div class=\"sk-label sk-toggleable\"><input class=\"sk-toggleable__control sk-hidden--visually\" id=\"sk-estimator-id-21\" type=\"checkbox\" ><label for=\"sk-estimator-id-21\" class=\"sk-toggleable__label sk-toggleable__label-arrow\">GridSearchCV</label><div class=\"sk-toggleable__content\"><pre>GridSearchCV(cv=5,\n",
       "             estimator=Pipeline(steps=[(&#x27;cvec&#x27;, CountVectorizer()),\n",
       "                                       (&#x27;rf&#x27;, RandomForestClassifier())]),\n",
       "             param_grid={&#x27;cvec__max_df&#x27;: [0.8, 0.9],\n",
       "                         &#x27;cvec__max_features&#x27;: [2000, 2500],\n",
       "                         &#x27;cvec__min_df&#x27;: [1, 2], &#x27;cvec__ngram_range&#x27;: [(1, 1)],\n",
       "                         &#x27;cvec__tokenizer&#x27;: [None,\n",
       "                                             &lt;__main__.LemmaTokenizer object at 0x00000189CC335F10&gt;],\n",
       "                         &#x27;rf__max_depth&#x27;: [5, 10, 15],\n",
       "                         &#x27;rf__n_estimators&#x27;: [100, 150, 200]})</pre></div></div></div><div class=\"sk-parallel\"><div class=\"sk-parallel-item\"><div class=\"sk-item\"><div class=\"sk-label-container\"><div class=\"sk-label sk-toggleable\"><input class=\"sk-toggleable__control sk-hidden--visually\" id=\"sk-estimator-id-22\" type=\"checkbox\" ><label for=\"sk-estimator-id-22\" class=\"sk-toggleable__label sk-toggleable__label-arrow\">estimator: Pipeline</label><div class=\"sk-toggleable__content\"><pre>Pipeline(steps=[(&#x27;cvec&#x27;, CountVectorizer()), (&#x27;rf&#x27;, RandomForestClassifier())])</pre></div></div></div><div class=\"sk-serial\"><div class=\"sk-item\"><div class=\"sk-serial\"><div class=\"sk-item\"><div class=\"sk-estimator sk-toggleable\"><input class=\"sk-toggleable__control sk-hidden--visually\" id=\"sk-estimator-id-23\" type=\"checkbox\" ><label for=\"sk-estimator-id-23\" class=\"sk-toggleable__label sk-toggleable__label-arrow\">CountVectorizer</label><div class=\"sk-toggleable__content\"><pre>CountVectorizer()</pre></div></div></div><div class=\"sk-item\"><div class=\"sk-estimator sk-toggleable\"><input class=\"sk-toggleable__control sk-hidden--visually\" id=\"sk-estimator-id-24\" type=\"checkbox\" ><label for=\"sk-estimator-id-24\" class=\"sk-toggleable__label sk-toggleable__label-arrow\">RandomForestClassifier</label><div class=\"sk-toggleable__content\"><pre>RandomForestClassifier()</pre></div></div></div></div></div></div></div></div></div></div></div></div>"
      ],
      "text/plain": [
       "GridSearchCV(cv=5,\n",
       "             estimator=Pipeline(steps=[('cvec', CountVectorizer()),\n",
       "                                       ('rf', RandomForestClassifier())]),\n",
       "             param_grid={'cvec__max_df': [0.8, 0.9],\n",
       "                         'cvec__max_features': [2000, 2500],\n",
       "                         'cvec__min_df': [1, 2], 'cvec__ngram_range': [(1, 1)],\n",
       "                         'cvec__tokenizer': [None,\n",
       "                                             <__main__.LemmaTokenizer object at 0x00000189CC335F10>],\n",
       "                         'rf__max_depth': [5, 10, 15],\n",
       "                         'rf__n_estimators': [100, 150, 200]})"
      ]
     },
     "execution_count": 178,
     "metadata": {},
     "output_type": "execute_result"
    }
   ],
   "source": [
    "# Instantiate GridSearchCV.\n",
    "rf_gs = GridSearchCV(rf_pipe, #\n",
    "                  param_grid = rf_pipe_params,\n",
    "                  cv=5) \n",
    "rf_gs.fit(X_train, y_train)"
   ]
  },
  {
   "cell_type": "code",
   "execution_count": 179,
   "id": "f0e80e58-564d-4521-884f-1c0bde0a89be",
   "metadata": {},
   "outputs": [
    {
     "name": "stdout",
     "output_type": "stream",
     "text": [
      "Training accuracy: 0.8404\n",
      "Testing accuracy: 0.74\n",
      "Testing f1 score:0.7868\n"
     ]
    },
    {
     "data": {
      "image/png": "[encoded data removed]",
      "text/plain": [
       "<Figure size 640x480 with 1 Axes>"
      ]
     },
     "metadata": {},
     "output_type": "display_data"
    }
   ],
   "source": [
    "fourth_iter_1 = evaluation(rf_gs, X_train, X_test)"
   ]
  },
  {
   "cell_type": "code",
   "execution_count": null,
   "id": "379d2d3f-9032-4f38-b550-fc4535dcc341",
   "metadata": {},
   "outputs": [],
   "source": []
  }
 ],
 "metadata": {
  "kernelspec": {
   "display_name": "Python 3 (ipykernel)",
   "language": "python",
   "name": "python3"
  },
  "language_info": {
   "codemirror_mode": {
    "name": "ipython",
    "version": 3
   },
   "file_extension": ".py",
   "mimetype": "text/x-python",
   "name": "python",
   "nbconvert_exporter": "python",
   "pygments_lexer": "ipython3",
   "version": "3.9.13"
  }
 },
 "nbformat": 4,
 "nbformat_minor": 5
}
