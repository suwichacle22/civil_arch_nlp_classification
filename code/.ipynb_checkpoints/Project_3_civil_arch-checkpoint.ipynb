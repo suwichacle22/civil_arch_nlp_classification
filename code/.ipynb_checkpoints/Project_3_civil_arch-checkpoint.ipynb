{
 "cells": [
  {
   "cell_type": "markdown",
   "id": "2b3fe846",
   "metadata": {},
   "source": [
    "### Import section"
   ]
  },
  {
   "cell_type": "code",
   "execution_count": 37,
   "id": "0e51324d",
   "metadata": {},
   "outputs": [],
   "source": [
    "# import package\n",
    "import pandas as pd\n",
    "import numpy as np\n",
    "import matplotlib.pyplot as plt\n",
    "import seaborn as sns\n",
    "\n",
    "from sklearn.feature_extraction.text import CountVectorizer, TfidfVectorizer\n",
    "from sklearn.feature_extraction import DictVectorizer\n",
    "from sklearn.pipeline import Pipeline\n",
    "from nltk.tokenize import sent_tokenize, word_tokenize, RegexpTokenizer\n",
    "from nltk.stem import WordNetLemmatizer\n",
    "from nltk.stem.porter import PorterStemmer\n",
    "from nltk.corpus import stopwords\n",
    "from nltk.sentiment.vader import SentimentIntensityAnalyzer\n",
    "from sklearn.linear_model import LogisticRegression\n",
    "from sklearn.model_selection import train_test_split\n",
    "from sklearn.naive_bayes import MultinomialNB\n",
    "from sklearn.metrics import confusion_matrix, ConfusionMatrixDisplay,\\\n",
    "f1_score\n",
    "import re"
   ]
  },
  {
   "cell_type": "code",
   "execution_count": 2,
   "id": "efa5e630",
   "metadata": {},
   "outputs": [
    {
     "name": "stderr",
     "output_type": "stream",
     "text": [
      "C:\\Users\\Kant\\AppData\\Local\\Temp\\ipykernel_22588\\3444050725.py:3: SettingWithCopyWarning: \n",
      "A value is trying to be set on a copy of a slice from a DataFrame.\n",
      "Try using .loc[row_indexer,col_indexer] = value instead\n",
      "\n",
      "See the caveats in the documentation: https://pandas.pydata.org/pandas-docs/stable/user_guide/indexing.html#returning-a-view-versus-a-copy\n",
      "  df_label['label'] = df_label['subreddit'].map({'civilengineering':1,\n"
     ]
    },
    {
     "data": {
      "text/html": [
       "<div>\n",
       "<style scoped>\n",
       "    .dataframe tbody tr th:only-of-type {\n",
       "        vertical-align: middle;\n",
       "    }\n",
       "\n",
       "    .dataframe tbody tr th {\n",
       "        vertical-align: top;\n",
       "    }\n",
       "\n",
       "    .dataframe thead th {\n",
       "        text-align: right;\n",
       "    }\n",
       "</style>\n",
       "<table border=\"1\" class=\"dataframe\">\n",
       "  <thead>\n",
       "    <tr style=\"text-align: right;\">\n",
       "      <th></th>\n",
       "      <th>title</th>\n",
       "      <th>subreddit</th>\n",
       "      <th>label</th>\n",
       "    </tr>\n",
       "  </thead>\n",
       "  <tbody>\n",
       "    <tr>\n",
       "      <th>0</th>\n",
       "      <td>2022 Civil Engineering Salary Survey</td>\n",
       "      <td>civilengineering</td>\n",
       "      <td>1</td>\n",
       "    </tr>\n",
       "    <tr>\n",
       "      <th>1</th>\n",
       "      <td>Monthly Jobs Thread</td>\n",
       "      <td>civilengineering</td>\n",
       "      <td>1</td>\n",
       "    </tr>\n",
       "    <tr>\n",
       "      <th>2</th>\n",
       "      <td>Not going to miss being up at 3:30 to test 100...</td>\n",
       "      <td>civilengineering</td>\n",
       "      <td>1</td>\n",
       "    </tr>\n",
       "    <tr>\n",
       "      <th>3</th>\n",
       "      <td>Lack of flood insurance in hard-hit Central Fl...</td>\n",
       "      <td>civilengineering</td>\n",
       "      <td>1</td>\n",
       "    </tr>\n",
       "    <tr>\n",
       "      <th>4</th>\n",
       "      <td>Reliability of Rebound Hammer Test</td>\n",
       "      <td>civilengineering</td>\n",
       "      <td>1</td>\n",
       "    </tr>\n",
       "    <tr>\n",
       "      <th>...</th>\n",
       "      <td>...</td>\n",
       "      <td>...</td>\n",
       "      <td>...</td>\n",
       "    </tr>\n",
       "    <tr>\n",
       "      <th>1884</th>\n",
       "      <td>Name of a sustainable structure (related with ...</td>\n",
       "      <td>architecture</td>\n",
       "      <td>0</td>\n",
       "    </tr>\n",
       "    <tr>\n",
       "      <th>1885</th>\n",
       "      <td>Help me find my purpose in architecture</td>\n",
       "      <td>architecture</td>\n",
       "      <td>0</td>\n",
       "    </tr>\n",
       "    <tr>\n",
       "      <th>1886</th>\n",
       "      <td>how hard are the school?</td>\n",
       "      <td>architecture</td>\n",
       "      <td>0</td>\n",
       "    </tr>\n",
       "    <tr>\n",
       "      <th>1887</th>\n",
       "      <td>cottage study with watercolor</td>\n",
       "      <td>architecture</td>\n",
       "      <td>0</td>\n",
       "    </tr>\n",
       "    <tr>\n",
       "      <th>1888</th>\n",
       "      <td>Modernist Vs Classical from his POV</td>\n",
       "      <td>architecture</td>\n",
       "      <td>0</td>\n",
       "    </tr>\n",
       "  </tbody>\n",
       "</table>\n",
       "<p>1889 rows × 3 columns</p>\n",
       "</div>"
      ],
      "text/plain": [
       "                                                  title         subreddit  \\\n",
       "0                  2022 Civil Engineering Salary Survey  civilengineering   \n",
       "1                                   Monthly Jobs Thread  civilengineering   \n",
       "2     Not going to miss being up at 3:30 to test 100...  civilengineering   \n",
       "3     Lack of flood insurance in hard-hit Central Fl...  civilengineering   \n",
       "4                    Reliability of Rebound Hammer Test  civilengineering   \n",
       "...                                                 ...               ...   \n",
       "1884  Name of a sustainable structure (related with ...      architecture   \n",
       "1885            Help me find my purpose in architecture      architecture   \n",
       "1886                           how hard are the school?      architecture   \n",
       "1887                      cottage study with watercolor      architecture   \n",
       "1888                Modernist Vs Classical from his POV      architecture   \n",
       "\n",
       "      label  \n",
       "0         1  \n",
       "1         1  \n",
       "2         1  \n",
       "3         1  \n",
       "4         1  \n",
       "...     ...  \n",
       "1884      0  \n",
       "1885      0  \n",
       "1886      0  \n",
       "1887      0  \n",
       "1888      0  \n",
       "\n",
       "[1889 rows x 3 columns]"
      ]
     },
     "execution_count": 2,
     "metadata": {},
     "output_type": "execute_result"
    }
   ],
   "source": [
    "# Load csv\n",
    "df = pd.read_csv('../data/civil_arch_corpus.csv')\n",
    "df_label = df[['title','subreddit']]\n",
    "\n",
    "# Mapping subreddit\n",
    "# 1: civil engineer\n",
    "# 0: architecture\n",
    "df_label['label'] = df_label['subreddit'].map({'civilengineering':1,\n",
    "                                               'architecture':0})\n",
    "df_label"
   ]
  },
  {
   "cell_type": "code",
   "execution_count": 3,
   "id": "f68692f7",
   "metadata": {},
   "outputs": [],
   "source": [
    "# Define X and y\n",
    "X = df_label['title']\n",
    "y = df_label['label']\n",
    "\n",
    "# Split data\n",
    "# X before y, train before test\n",
    "X_train, X_test, y_train, y_test = train_test_split(X, y, random_state=42)"
   ]
  },
  {
   "cell_type": "code",
   "execution_count": 4,
   "id": "d552a8f9",
   "metadata": {},
   "outputs": [],
   "source": [
    "# Create Class lemmatizer for lemmatize words\n",
    "class LemmaTokenizer:\n",
    "    def __init__(self):\n",
    "        self.wnl = WordNetLemmatizer()\n",
    "    def __call__(self, doc):\n",
    "        regex_num_ponctuation = '(\\d+)|([^\\w\\s])'\n",
    "        regex_little_words = r'(\\b\\w{1,2}\\b)'\n",
    "        return [self.wnl.lemmatize(t) for t in word_tokenize(doc) \n",
    "                if not re.search(regex_num_ponctuation, t) and not re.search(regex_little_words, t)]"
   ]
  },
  {
   "cell_type": "code",
   "execution_count": 5,
   "id": "5fabbffd",
   "metadata": {},
   "outputs": [],
   "source": [
    "def get_X_vectorizer(model):\n",
    "    X_train_vec = model.fit_transform(X_train)\n",
    "    X_test_vec = model.transform(X_test)\n",
    "    return X_train_vec, X_test_vec"
   ]
  },
  {
   "cell_type": "code",
   "execution_count": 41,
   "id": "128f266f",
   "metadata": {},
   "outputs": [],
   "source": [
    "def evaluation(model, X_train_vec, X_test_vec):\n",
    "    y_preds = model.predict(X_test_vec)\n",
    "    train_acc = round(model.score(X_train_vec,y_train),4)\n",
    "    test_acc = round(model.score(X_test_vec,y_test),4)\n",
    "    f1_test = round(f1_score(y_test, y_preds),4)\n",
    "    print(f'Training accuracy: {train_acc}')\n",
    "    print(f'Testing accuracy: {test_acc}')\n",
    "    print(f'Testing f1 score:{f1_test}')\n",
    "    cm = confusion_matrix(y_test,y_preds)\n",
    "    ConfusionMatrixDisplay(cm,display_labels=model.classes_)\\\n",
    "    .plot(colorbar=False, cmap = 'Blues');\n",
    "    return [train_acc, test_acc, f1_test]"
   ]
  },
  {
   "cell_type": "code",
   "execution_count": 7,
   "id": "842f7043",
   "metadata": {},
   "outputs": [],
   "source": [
    "def coeff_log(model,label,amount):\n",
    "    \"\"\"Function extract the coefficient from logistic regression model\"\"\"\n",
    "    if label == 0:\n",
    "        print(pd.DataFrame(logreg.coef_[0],\\\n",
    "                     index=cvec.get_feature_names_out())[0].sort_values().head(amount))\n",
    "    else:\n",
    "        print(pd.DataFrame(logreg.coef_[0],\\\n",
    "                     index=cvec.get_feature_names_out())[0].sort_values().tail(amount))"
   ]
  },
  {
   "cell_type": "markdown",
   "id": "7e24f53a",
   "metadata": {},
   "source": [
    "### 1st Iteration: Basic logistic regression model\n",
    "Vectorizer: Countvectorizer\n",
    "1. Logistic regression without lemmatized word\n",
    "2. Logistic regression with lemmatized word"
   ]
  },
  {
   "cell_type": "code",
   "execution_count": 43,
   "id": "f4284e75",
   "metadata": {},
   "outputs": [
    {
     "name": "stdout",
     "output_type": "stream",
     "text": [
      "# Columns without lemmatized word: 3490\n",
      "Training accuracy: 0.9831\n",
      "Testing accuracy: 0.8097\n",
      "Testing f1 score:0.8327\n"
     ]
    },
    {
     "data": {
      "image/png": "[encoded data removed]",
      "text/plain": [
       "<Figure size 432x288 with 1 Axes>"
      ]
     },
     "metadata": {
      "needs_background": "light"
     },
     "output_type": "display_data"
    }
   ],
   "source": [
    "# 1st iteration: Logistic regression without lemmatized word\n",
    "# Vectorize\n",
    "cvec = CountVectorizer(stop_words='english')\n",
    "X_train_cvec, X_test_cvec = get_X_vectorizer(cvec)\n",
    "print(f'# Columns without lemmatized word: {X_train_cvec.shape[1]}')\n",
    "\n",
    "# Fit or train the model\n",
    "logreg = LogisticRegression()\n",
    "logreg.fit(X_train_cvec,y_train)\n",
    "\n",
    "# Evaluation\n",
    "first_iter_1 = evaluation(logreg, X_train_cvec, X_test_cvec)"
   ]
  },
  {
   "cell_type": "code",
   "execution_count": 9,
   "id": "e7eb70cc",
   "metadata": {},
   "outputs": [
    {
     "name": "stdout",
     "output_type": "stream",
     "text": [
      "architecture    -3.076251\n",
      "house           -2.012761\n",
      "architects      -1.987325\n",
      "architectural   -1.976385\n",
      "style           -1.871416\n",
      "architect       -1.691552\n",
      "building        -1.633661\n",
      "portfolio       -1.157109\n",
      "sketch          -1.075828\n",
      "world           -1.020371\n",
      "chicago         -1.008192\n",
      "march           -1.002829\n",
      "homes           -0.941100\n",
      "roof            -0.919144\n",
      "room            -0.911128\n",
      "concept         -0.903318\n",
      "city            -0.891389\n",
      "cool            -0.869444\n",
      "facade          -0.838703\n",
      "apartment       -0.829002\n",
      "university      -0.825541\n",
      "brick           -0.815630\n",
      "rendering       -0.794620\n",
      "3d              -0.793517\n",
      "series          -0.792348\n",
      "Name: 0, dtype: float64\n"
     ]
    }
   ],
   "source": [
    "# 1st iteration: No lemmatized word\n",
    "# label 0 mean architecture\n",
    "coeff_log(logreg,0,25)"
   ]
  },
  {
   "cell_type": "code",
   "execution_count": 10,
   "id": "0fdac836",
   "metadata": {},
   "outputs": [
    {
     "name": "stdout",
     "output_type": "stream",
     "text": [
      "references     0.730438\n",
      "jobs           0.742689\n",
      "internship     0.746968\n",
      "stress         0.753949\n",
      "advice         0.793444\n",
      "vs             0.796472\n",
      "crack          0.799625\n",
      "worth          0.831471\n",
      "doing          0.847492\n",
      "beam           0.855510\n",
      "work           0.876420\n",
      "question       0.877090\n",
      "interview      0.888301\n",
      "inspector      0.897260\n",
      "highway        0.965690\n",
      "water          1.017402\n",
      "career         1.029231\n",
      "concrete       1.303184\n",
      "company        1.316912\n",
      "engineers      1.369632\n",
      "engineer       1.521022\n",
      "pe             1.563878\n",
      "bridge         1.710502\n",
      "engineering    1.976793\n",
      "civil          2.221886\n",
      "Name: 0, dtype: float64\n"
     ]
    }
   ],
   "source": [
    "# 1st iteration: No lemmatized word\n",
    "# label 1 mean civil engineer\n",
    "coeff_log(logreg,1,25)"
   ]
  },
  {
   "cell_type": "code",
   "execution_count": 44,
   "id": "6785706a",
   "metadata": {},
   "outputs": [
    {
     "name": "stderr",
     "output_type": "stream",
     "text": [
      "C:\\Users\\Kant\\anaconda3\\lib\\site-packages\\sklearn\\feature_extraction\\text.py:404: UserWarning: Your stop_words may be inconsistent with your preprocessing. Tokenizing the stop words generated tokens ['ha', 'le', 'wa'] not in stop_words.\n",
      "  warnings.warn(\n"
     ]
    },
    {
     "name": "stdout",
     "output_type": "stream",
     "text": [
      "# Columns with lemmatized word: 2941\n",
      "Training accuracy: 0.9753\n",
      "Testing accuracy: 0.7928\n",
      "Testing f1 score:0.8172\n"
     ]
    },
    {
     "data": {
      "image/png": "[encoded data removed]",
      "text/plain": [
       "<Figure size 432x288 with 1 Axes>"
      ]
     },
     "metadata": {
      "needs_background": "light"
     },
     "output_type": "display_data"
    }
   ],
   "source": [
    "# 1st iteration: Logistic regression with lemmatized word\n",
    "# Vectorize\n",
    "cvec = CountVectorizer(stop_words='english',tokenizer=LemmaTokenizer())\n",
    "X_train_cvec, X_test_cvec = get_X_vectorizer(cvec)\n",
    "print(f'# Columns with lemmatized word: {X_train_cvec.shape[1]}')\n",
    "\n",
    "# Fit or train the model\n",
    "logreg = LogisticRegression()\n",
    "logreg.fit(X_train_cvec,y_train)\n",
    "\n",
    "# Evaluation\n",
    "first_iter_2 = evaluation(logreg, X_train_cvec, X_test_cvec)"
   ]
  },
  {
   "cell_type": "code",
   "execution_count": 12,
   "id": "305d5d5b",
   "metadata": {},
   "outputs": [
    {
     "name": "stdout",
     "output_type": "stream",
     "text": [
      "architecture    -3.137663\n",
      "architect       -2.308653\n",
      "house           -2.002022\n",
      "architectural   -1.981419\n",
      "style           -1.868514\n",
      "building        -1.563301\n",
      "portfolio       -1.197503\n",
      "home            -1.152780\n",
      "render          -1.151530\n",
      "chicago         -1.093254\n",
      "sketch          -1.086044\n",
      "march           -1.049706\n",
      "room            -1.040020\n",
      "able            -0.976461\n",
      "roof            -0.972511\n",
      "image           -0.960541\n",
      "tower           -0.937285\n",
      "apartment       -0.934753\n",
      "facade          -0.934076\n",
      "world           -0.932882\n",
      "cool            -0.925741\n",
      "bedroom         -0.884059\n",
      "villa           -0.876245\n",
      "concept         -0.870015\n",
      "twin            -0.857656\n",
      "Name: 0, dtype: float64\n"
     ]
    }
   ],
   "source": [
    "# 1st iteration: Lemmatized word\n",
    "# label 0 mean architecture\n",
    "coeff_log(logreg,0,25)"
   ]
  },
  {
   "cell_type": "code",
   "execution_count": 13,
   "id": "91b01a1e",
   "metadata": {},
   "outputs": [
    {
     "name": "stdout",
     "output_type": "stream",
     "text": [
      "master         0.738959\n",
      "suggestion     0.740551\n",
      "stress         0.746103\n",
      "worth          0.770523\n",
      "utility        0.771720\n",
      "job            0.781375\n",
      "resume         0.801433\n",
      "doing          0.836330\n",
      "industry       0.844871\n",
      "earthquake     0.853976\n",
      "work           0.911805\n",
      "inspector      0.913692\n",
      "exam           0.938808\n",
      "question       0.939908\n",
      "interview      0.964765\n",
      "opportunity    0.983053\n",
      "highway        1.011255\n",
      "career         1.090043\n",
      "water          1.114952\n",
      "concrete       1.276447\n",
      "company        1.542463\n",
      "bridge         1.608043\n",
      "engineer       1.868657\n",
      "engineering    1.953601\n",
      "civil          2.156839\n",
      "Name: 0, dtype: float64\n"
     ]
    }
   ],
   "source": [
    "# 1st iteration: Lemmatized word\n",
    "# label 1 mean civil engineer\n",
    "coeff_log(logreg,1,25)"
   ]
  },
  {
   "cell_type": "markdown",
   "id": "73d8d957",
   "metadata": {},
   "source": [
    "### 1st Iteration conclusion\n",
    "Vectorizer: Countvectorizer\n",
    "1. Logistic regression without lemmatized word\n",
    "2. Logistic regression with lemmatized word"
   ]
  },
  {
   "cell_type": "code",
   "execution_count": 59,
   "id": "c3458dd0",
   "metadata": {},
   "outputs": [],
   "source": [
    "conclusion_1st_iter = pd.DataFrame(columns=['training_accuracy',\n",
    "                                          'testing_accuracy',\n",
    "                                          'testing_f1_score'])"
   ]
  },
  {
   "cell_type": "code",
   "execution_count": 60,
   "id": "91cf15be",
   "metadata": {},
   "outputs": [
    {
     "data": {
      "text/html": [
       "<div>\n",
       "<style scoped>\n",
       "    .dataframe tbody tr th:only-of-type {\n",
       "        vertical-align: middle;\n",
       "    }\n",
       "\n",
       "    .dataframe tbody tr th {\n",
       "        vertical-align: top;\n",
       "    }\n",
       "\n",
       "    .dataframe thead th {\n",
       "        text-align: right;\n",
       "    }\n",
       "</style>\n",
       "<table border=\"1\" class=\"dataframe\">\n",
       "  <thead>\n",
       "    <tr style=\"text-align: right;\">\n",
       "      <th></th>\n",
       "      <th>training_accuracy</th>\n",
       "      <th>testing_accuracy</th>\n",
       "      <th>testing_f1_score</th>\n",
       "    </tr>\n",
       "  </thead>\n",
       "  <tbody>\n",
       "    <tr>\n",
       "      <th>0</th>\n",
       "      <td>0.9831</td>\n",
       "      <td>0.8097</td>\n",
       "      <td>0.8327</td>\n",
       "    </tr>\n",
       "    <tr>\n",
       "      <th>1</th>\n",
       "      <td>0.9753</td>\n",
       "      <td>0.7928</td>\n",
       "      <td>0.8172</td>\n",
       "    </tr>\n",
       "  </tbody>\n",
       "</table>\n",
       "</div>"
      ],
      "text/plain": [
       "   training_accuracy  testing_accuracy  testing_f1_score\n",
       "0             0.9831            0.8097            0.8327\n",
       "1             0.9753            0.7928            0.8172"
      ]
     },
     "execution_count": 60,
     "metadata": {},
     "output_type": "execute_result"
    }
   ],
   "source": [
    "conclusion_1st_iter.loc[0] = first_iter_1\n",
    "conclusion_1st_iter.loc[1] = first_iter_2\n",
    "conclusion_1st_iter"
   ]
  },
  {
   "cell_type": "markdown",
   "id": "960c1c3e",
   "metadata": {},
   "source": [
    "### 2nd Iteration: Remove cheating word in model\n",
    "Vectorizer: Countvectorizer\n",
    "1. Logistic regression without lemmatized word\n",
    "2. Logistic regression with lemmatized word"
   ]
  },
  {
   "cell_type": "code",
   "execution_count": 14,
   "id": "b5f3b382",
   "metadata": {},
   "outputs": [],
   "source": [
    "# 2nd iteration: Remove cheating word in the model\n",
    "new_stopwords = stopwords.words('english')"
   ]
  },
  {
   "cell_type": "code",
   "execution_count": 15,
   "id": "4c1cf861",
   "metadata": {},
   "outputs": [],
   "source": [
    "# Extract from the coefficient of logistic regression\n",
    "# model in 1st iteration.\n",
    "\n",
    "# Extend cheating word into stopwords from \n",
    "# both architecture and civil engineer\n",
    "new_stopwords.extend(['architecture','architectural',\\\n",
    "                      'architect','architects','engineering',\\\n",
    "                      'civil', 'engineers', 'engineer'])"
   ]
  },
  {
   "cell_type": "code",
   "execution_count": 45,
   "id": "e01dfb73",
   "metadata": {},
   "outputs": [
    {
     "name": "stdout",
     "output_type": "stream",
     "text": [
      "# Columns without lemmatized word: 3573\n",
      "Training accuracy: 0.9788\n",
      "Testing accuracy: 0.7463\n",
      "Testing f1 score:0.7818\n"
     ]
    },
    {
     "data": {
      "image/png": "[encoded data removed]",
      "text/plain": [
       "<Figure size 432x288 with 1 Axes>"
      ]
     },
     "metadata": {
      "needs_background": "light"
     },
     "output_type": "display_data"
    }
   ],
   "source": [
    "# 2nd iteration: Logistic regression without lemmatized word\n",
    "cvec = CountVectorizer(stop_words=new_stopwords)\n",
    "X_train_cvec, X_test_cvec = get_X_vectorizer(cvec)\n",
    "print(f'# Columns without lemmatized word: {X_train_cvec.shape[1]}')\n",
    "\n",
    "# Fit or train the model\n",
    "logreg = LogisticRegression()\n",
    "logreg.fit(X_train_cvec,y_train)\n",
    "\n",
    "# Evaluation\n",
    "second_iter_1 = evaluation(logreg, X_train_cvec, X_test_cvec)"
   ]
  },
  {
   "cell_type": "code",
   "execution_count": 17,
   "id": "40738968",
   "metadata": {},
   "outputs": [
    {
     "name": "stdout",
     "output_type": "stream",
     "text": [
      "style        -1.996055\n",
      "house        -1.964942\n",
      "building     -1.712364\n",
      "portfolio    -1.291116\n",
      "sketch       -1.115164\n",
      "chicago      -1.112226\n",
      "styles       -1.104032\n",
      "share        -1.086975\n",
      "find         -1.060449\n",
      "de           -1.039281\n",
      "made         -1.037095\n",
      "profession   -0.979914\n",
      "indian       -0.968118\n",
      "world        -0.957289\n",
      "ai           -0.927298\n",
      "designed     -0.914619\n",
      "interior     -0.899892\n",
      "concept      -0.891978\n",
      "apartment    -0.872943\n",
      "roof         -0.865530\n",
      "housing      -0.864193\n",
      "city         -0.859893\n",
      "want         -0.853869\n",
      "ba           -0.852577\n",
      "ceiling      -0.849273\n",
      "Name: 0, dtype: float64\n"
     ]
    }
   ],
   "source": [
    "# 2nd iteration: No lemmatized word\n",
    "# label 0 mean architecture\n",
    "coeff_log(logreg,0,25)"
   ]
  },
  {
   "cell_type": "code",
   "execution_count": 18,
   "id": "cfd117dc",
   "metadata": {},
   "outputs": [
    {
     "name": "stdout",
     "output_type": "stream",
     "text": [
      "stress            0.815091\n",
      "references        0.843770\n",
      "computer          0.850721\n",
      "topic             0.863179\n",
      "geotechnical      0.881592\n",
      "interview         0.885597\n",
      "inspector         0.890085\n",
      "career            0.890873\n",
      "internship        0.903308\n",
      "seeking           0.911702\n",
      "work              0.912627\n",
      "beam              0.913043\n",
      "salary            0.927722\n",
      "opportunities     0.950142\n",
      "highway           0.980330\n",
      "question          1.055683\n",
      "jobs              1.058110\n",
      "structural        1.125925\n",
      "transportation    1.134626\n",
      "ce                1.184390\n",
      "water             1.352062\n",
      "concrete          1.371618\n",
      "company           1.451519\n",
      "pe                1.643277\n",
      "bridge            1.804189\n",
      "Name: 0, dtype: float64\n"
     ]
    }
   ],
   "source": [
    "# 2nd iteration: No lemmatized word\n",
    "# label 1 mean civil engineer\n",
    "coeff_log(logreg,1,25)"
   ]
  },
  {
   "cell_type": "code",
   "execution_count": 46,
   "id": "2788f490",
   "metadata": {},
   "outputs": [
    {
     "name": "stderr",
     "output_type": "stream",
     "text": [
      "C:\\Users\\Kant\\anaconda3\\lib\\site-packages\\sklearn\\feature_extraction\\text.py:404: UserWarning: Your stop_words may be inconsistent with your preprocessing. Tokenizing the stop words generated tokens ['could', 'doe', 'ha', 'might', 'must', 'need', 'sha', 'wa', 'would'] not in stop_words.\n",
      "  warnings.warn(\n"
     ]
    },
    {
     "name": "stdout",
     "output_type": "stream",
     "text": [
      "# Columns with lemmatized word: 3027\n",
      "Training accuracy: 0.9612\n",
      "Testing accuracy: 0.7526\n",
      "Testing f1 score:0.7869\n"
     ]
    },
    {
     "data": {
      "image/png": "[encoded data removed]",
      "text/plain": [
       "<Figure size 432x288 with 1 Axes>"
      ]
     },
     "metadata": {
      "needs_background": "light"
     },
     "output_type": "display_data"
    }
   ],
   "source": [
    "# 2nd iteration: Logistic regression with lemmatized word\n",
    "cvec = CountVectorizer(stop_words=new_stopwords,tokenizer=LemmaTokenizer())\n",
    "X_train_cvec, X_test_cvec = get_X_vectorizer(cvec)\n",
    "print(f'# Columns with lemmatized word: {X_train_cvec.shape[1]}')\n",
    "\n",
    "# Fit or train the model\n",
    "logreg = LogisticRegression()\n",
    "logreg.fit(X_train_cvec,y_train)\n",
    "\n",
    "# Evaluation\n",
    "second_iter_2 = evaluation(logreg, X_train_cvec, X_test_cvec)"
   ]
  },
  {
   "cell_type": "code",
   "execution_count": 20,
   "id": "8308137d",
   "metadata": {},
   "outputs": [
    {
     "name": "stdout",
     "output_type": "stream",
     "text": [
      "style           -2.167586\n",
      "house           -1.926867\n",
      "building        -1.601590\n",
      "portfolio       -1.364500\n",
      "indian          -1.301603\n",
      "profession      -1.219649\n",
      "home            -1.169965\n",
      "chicago         -1.164024\n",
      "sketch          -1.111035\n",
      "share           -1.090386\n",
      "render          -1.083224\n",
      "image           -1.029316\n",
      "find            -0.990943\n",
      "part            -0.989192\n",
      "made            -0.988170\n",
      "villa           -0.987870\n",
      "tower           -0.983226\n",
      "room            -0.983110\n",
      "marvel          -0.971521\n",
      "apartment       -0.969477\n",
      "software        -0.910017\n",
      "housing         -0.909503\n",
      "visualization   -0.904273\n",
      "world           -0.899396\n",
      "roof            -0.892811\n",
      "Name: 0, dtype: float64\n"
     ]
    }
   ],
   "source": [
    "# 2nd iteration: Lemmatized word\n",
    "# label 0 mean architecture\n",
    "coeff_log(logreg,0,25)"
   ]
  },
  {
   "cell_type": "code",
   "execution_count": 21,
   "id": "0c7cd831",
   "metadata": {},
   "outputs": [
    {
     "name": "stdout",
     "output_type": "stream",
     "text": [
      "stress            0.790638\n",
      "beam              0.791527\n",
      "industry          0.798937\n",
      "master            0.803101\n",
      "data              0.805988\n",
      "earthquake        0.826891\n",
      "resume            0.828802\n",
      "career            0.878854\n",
      "computer          0.880633\n",
      "inspector         0.904680\n",
      "interview         0.906686\n",
      "geotechnical      0.940748\n",
      "work              0.959658\n",
      "utility           0.963822\n",
      "exam              0.967384\n",
      "seeking           0.978810\n",
      "highway           0.993871\n",
      "question          1.033787\n",
      "transportation    1.150097\n",
      "structural        1.161223\n",
      "opportunity       1.202273\n",
      "concrete          1.288080\n",
      "water             1.416080\n",
      "company           1.629614\n",
      "bridge            1.715240\n",
      "Name: 0, dtype: float64\n"
     ]
    }
   ],
   "source": [
    "# 2nd iteration: Lemmatized word\n",
    "# label 1 mean civil engineer\n",
    "coeff_log(logreg,1,25)"
   ]
  },
  {
   "cell_type": "code",
   "execution_count": 22,
   "id": "1d36c5ff",
   "metadata": {},
   "outputs": [
    {
     "data": {
      "text/html": [
       "<div>\n",
       "<style scoped>\n",
       "    .dataframe tbody tr th:only-of-type {\n",
       "        vertical-align: middle;\n",
       "    }\n",
       "\n",
       "    .dataframe tbody tr th {\n",
       "        vertical-align: top;\n",
       "    }\n",
       "\n",
       "    .dataframe thead th {\n",
       "        text-align: right;\n",
       "    }\n",
       "</style>\n",
       "<table border=\"1\" class=\"dataframe\">\n",
       "  <thead>\n",
       "    <tr style=\"text-align: right;\">\n",
       "      <th></th>\n",
       "      <th>label</th>\n",
       "      <th>pred</th>\n",
       "    </tr>\n",
       "  </thead>\n",
       "  <tbody>\n",
       "    <tr>\n",
       "      <th>1461</th>\n",
       "      <td>0</td>\n",
       "      <td>1</td>\n",
       "    </tr>\n",
       "    <tr>\n",
       "      <th>1811</th>\n",
       "      <td>0</td>\n",
       "      <td>1</td>\n",
       "    </tr>\n",
       "    <tr>\n",
       "      <th>188</th>\n",
       "      <td>1</td>\n",
       "      <td>0</td>\n",
       "    </tr>\n",
       "    <tr>\n",
       "      <th>1317</th>\n",
       "      <td>0</td>\n",
       "      <td>1</td>\n",
       "    </tr>\n",
       "    <tr>\n",
       "      <th>465</th>\n",
       "      <td>1</td>\n",
       "      <td>0</td>\n",
       "    </tr>\n",
       "    <tr>\n",
       "      <th>...</th>\n",
       "      <td>...</td>\n",
       "      <td>...</td>\n",
       "    </tr>\n",
       "    <tr>\n",
       "      <th>334</th>\n",
       "      <td>1</td>\n",
       "      <td>0</td>\n",
       "    </tr>\n",
       "    <tr>\n",
       "      <th>1114</th>\n",
       "      <td>0</td>\n",
       "      <td>1</td>\n",
       "    </tr>\n",
       "    <tr>\n",
       "      <th>1700</th>\n",
       "      <td>0</td>\n",
       "      <td>1</td>\n",
       "    </tr>\n",
       "    <tr>\n",
       "      <th>1393</th>\n",
       "      <td>0</td>\n",
       "      <td>1</td>\n",
       "    </tr>\n",
       "    <tr>\n",
       "      <th>1052</th>\n",
       "      <td>0</td>\n",
       "      <td>1</td>\n",
       "    </tr>\n",
       "  </tbody>\n",
       "</table>\n",
       "<p>117 rows × 2 columns</p>\n",
       "</div>"
      ],
      "text/plain": [
       "      label  pred\n",
       "1461      0     1\n",
       "1811      0     1\n",
       "188       1     0\n",
       "1317      0     1\n",
       "465       1     0\n",
       "...     ...   ...\n",
       "334       1     0\n",
       "1114      0     1\n",
       "1700      0     1\n",
       "1393      0     1\n",
       "1052      0     1\n",
       "\n",
       "[117 rows x 2 columns]"
      ]
     },
     "execution_count": 22,
     "metadata": {},
     "output_type": "execute_result"
    }
   ],
   "source": [
    "# 2nd iteration: Lemmatized word\n",
    "# Check the text in false prediction\n",
    "y_pred_2nd_lemma = logreg.predict(X_test_cvec)\n",
    "compare_y_df = pd.DataFrame(y_test)\n",
    "compare_y_df['pred'] = y_pred_2nd_lemma\n",
    "false_pred =  compare_y_df[compare_y_df['label'] != compare_y_df['pred']]\n",
    "false_pred"
   ]
  },
  {
   "cell_type": "code",
   "execution_count": 32,
   "id": "4ae06e2c",
   "metadata": {
    "scrolled": true
   },
   "outputs": [
    {
     "data": {
      "text/plain": [
       "[\"Edwin Lutyens' Marshcourt\",\n",
       " 'The Shard of London touching the clouds',\n",
       " 'How to add user defined properties to AutoCAD objects for export into Python?',\n",
       " 'Book/reading suggestion about mass produced architecture and expression?',\n",
       " 'What y think about this?',\n",
       " 'Nelson Mandela Monument in Amsterdam, Netherland.',\n",
       " 'Do you think text-to-image AI tools will benefit the work of architect?',\n",
       " 'Australian Embassy in Baghdad',\n",
       " \"who's your favorite architect and why?\",\n",
       " 'The abandoned Central Terminal in Buffalo, NY']"
      ]
     },
     "execution_count": 32,
     "metadata": {},
     "output_type": "execute_result"
    }
   ],
   "source": [
    "# Title of false positive (81)\n",
    "# Title from architecture, we predict it's from civil engineer.\n",
    "list(X[false_pred[false_pred['pred']==1].index])[:10]\n",
    "\n",
    "# Almost all of title in false positive case is hard to define the subreddit.\n",
    "# Some of titles have the cheating words that we removed it earier. "
   ]
  },
  {
   "cell_type": "code",
   "execution_count": 34,
   "id": "49fcb9c1",
   "metadata": {},
   "outputs": [
    {
     "data": {
      "text/plain": [
       "['If the Romans Built Brick Pavers',\n",
       " 'Who owns old Bell Telephone easements?',\n",
       " 'Best software for designing steel frame structures',\n",
       " 'Does anyone know the dimensions of this NY pipe coming from a building? ( I know it is an ask )',\n",
       " 'why is head difference and head loss b/w two reservoir is equal?',\n",
       " 'Looking for good online resource to find stress/strain curves for specific materials.',\n",
       " 'Foundation,building question.',\n",
       " 'Civil Engineering Universities in Europe',\n",
       " 'Practice',\n",
       " 'Architectural Marvels: Spectacular Rail Stations Around the World (Part 1)']"
      ]
     },
     "execution_count": 34,
     "metadata": {},
     "output_type": "execute_result"
    }
   ],
   "source": [
    "# Title of false negative (36)\n",
    "# Title from civil engineer, we predict it's from architecture.\n",
    "list(X[false_pred[false_pred['pred']==0].index])[:10]\n",
    "\n",
    "# Some of title in false negative case is hard to define the subreddit.\n",
    "# Some of titles have the cheating words that we removed it earier.\n",
    "# Some of titles have the content about civil engineer directly, for example,\n",
    "# 'Looking for good online resource to find stress/strain curves \n",
    "# for specific materials.'\n",
    "# The data that we collected may be not enough. "
   ]
  },
  {
   "cell_type": "markdown",
   "id": "43f7ef8d",
   "metadata": {},
   "source": [
    "### 2nd Iteration: Remove cheating word in model  (2)\n",
    "Since, the first model of 2nd iteration is worked, we will try Naive bayes model with the same parameter.\n",
    "\n",
    "Vectorizer: Countvectorizer\n",
    "\n",
    "3. Naive Bayes without lemmatized word\n",
    "4. Naive Bayes with lemmatized word"
   ]
  },
  {
   "cell_type": "code",
   "execution_count": 47,
   "id": "955306c0",
   "metadata": {},
   "outputs": [
    {
     "name": "stdout",
     "output_type": "stream",
     "text": [
      "# Columns without lemmatized word: 3573\n",
      "Training accuracy: 0.9421\n",
      "Testing accuracy: 0.7865\n",
      "Testing f1 score:0.8112\n"
     ]
    },
    {
     "data": {
      "image/png": "[encoded data removed]",
      "text/plain": [
       "<Figure size 432x288 with 1 Axes>"
      ]
     },
     "metadata": {
      "needs_background": "light"
     },
     "output_type": "display_data"
    }
   ],
   "source": [
    "# 2nd iteration: Naive bayes without lemmatized word\n",
    "cvec = CountVectorizer(stop_words=new_stopwords)\n",
    "X_train_cvec, X_test_cvec = get_X_vectorizer(cvec)\n",
    "print(f'# Columns without lemmatized word: {X_train_cvec.shape[1]}')\n",
    "\n",
    "# Fit or train the model\n",
    "nb = MultinomialNB()\n",
    "nb.fit(X_train_cvec,y_train)\n",
    "\n",
    "# Evaluation\n",
    "second_iter_3 = evaluation(nb, X_train_cvec, X_test_cvec)"
   ]
  },
  {
   "cell_type": "code",
   "execution_count": 48,
   "id": "30b41912",
   "metadata": {},
   "outputs": [
    {
     "name": "stderr",
     "output_type": "stream",
     "text": [
      "C:\\Users\\Kant\\anaconda3\\lib\\site-packages\\sklearn\\feature_extraction\\text.py:404: UserWarning: Your stop_words may be inconsistent with your preprocessing. Tokenizing the stop words generated tokens ['could', 'doe', 'ha', 'might', 'must', 'need', 'sha', 'wa', 'would'] not in stop_words.\n",
      "  warnings.warn(\n"
     ]
    },
    {
     "name": "stdout",
     "output_type": "stream",
     "text": [
      "# Columns with lemmatized word: 3027\n",
      "Training accuracy: 0.9612\n",
      "Testing accuracy: 0.7526\n",
      "Testing f1 score:0.7869\n"
     ]
    },
    {
     "data": {
      "image/png": "[encoded data removed]",
      "text/plain": [
       "<Figure size 432x288 with 1 Axes>"
      ]
     },
     "metadata": {
      "needs_background": "light"
     },
     "output_type": "display_data"
    }
   ],
   "source": [
    "# 2nd iteration: Naive bayes with lemmatized word\n",
    "cvec = CountVectorizer(stop_words=new_stopwords,tokenizer=LemmaTokenizer())\n",
    "X_train_cvec, X_test_cvec = get_X_vectorizer(cvec)\n",
    "print(f'# Columns with lemmatized word: {X_train_cvec.shape[1]}')\n",
    "\n",
    "# Fit or train the model\n",
    "nb = LogisticRegression()\n",
    "nb.fit(X_train_cvec,y_train)\n",
    "\n",
    "# Evaluation\n",
    "second_iter_4 = evaluation(nb, X_train_cvec, X_test_cvec)"
   ]
  },
  {
   "cell_type": "markdown",
   "id": "6142fa34",
   "metadata": {},
   "source": [
    "### 2nd Iteration conclusion\n",
    "Vectorizer: Countvectorizer\n",
    "1. Logistic regression without lemmatized word\n",
    "2. Logistic regression with lemmatized word\n",
    "3. Naive Bayes without lemmatized word\n",
    "4. Naive Bayes with lemmatized word"
   ]
  },
  {
   "cell_type": "code",
   "execution_count": 56,
   "id": "f67074cb",
   "metadata": {},
   "outputs": [],
   "source": [
    "conclusion_2nd_iter = pd.DataFrame(columns=['training_accuracy',\n",
    "                                          'testing_accuracy',\n",
    "                                          'testing_f1_score'])"
   ]
  },
  {
   "cell_type": "code",
   "execution_count": 57,
   "id": "9de7bcec",
   "metadata": {},
   "outputs": [
    {
     "data": {
      "text/html": [
       "<div>\n",
       "<style scoped>\n",
       "    .dataframe tbody tr th:only-of-type {\n",
       "        vertical-align: middle;\n",
       "    }\n",
       "\n",
       "    .dataframe tbody tr th {\n",
       "        vertical-align: top;\n",
       "    }\n",
       "\n",
       "    .dataframe thead th {\n",
       "        text-align: right;\n",
       "    }\n",
       "</style>\n",
       "<table border=\"1\" class=\"dataframe\">\n",
       "  <thead>\n",
       "    <tr style=\"text-align: right;\">\n",
       "      <th></th>\n",
       "      <th>training_accuracy</th>\n",
       "      <th>testing_accuracy</th>\n",
       "      <th>testing_f1_score</th>\n",
       "    </tr>\n",
       "  </thead>\n",
       "  <tbody>\n",
       "    <tr>\n",
       "      <th>0</th>\n",
       "      <td>0.9788</td>\n",
       "      <td>0.7463</td>\n",
       "      <td>0.7818</td>\n",
       "    </tr>\n",
       "    <tr>\n",
       "      <th>1</th>\n",
       "      <td>0.9612</td>\n",
       "      <td>0.7526</td>\n",
       "      <td>0.7869</td>\n",
       "    </tr>\n",
       "    <tr>\n",
       "      <th>2</th>\n",
       "      <td>0.9421</td>\n",
       "      <td>0.7865</td>\n",
       "      <td>0.8112</td>\n",
       "    </tr>\n",
       "    <tr>\n",
       "      <th>3</th>\n",
       "      <td>0.9612</td>\n",
       "      <td>0.7526</td>\n",
       "      <td>0.7869</td>\n",
       "    </tr>\n",
       "  </tbody>\n",
       "</table>\n",
       "</div>"
      ],
      "text/plain": [
       "   training_accuracy  testing_accuracy  testing_f1_score\n",
       "0             0.9788            0.7463            0.7818\n",
       "1             0.9612            0.7526            0.7869\n",
       "2             0.9421            0.7865            0.8112\n",
       "3             0.9612            0.7526            0.7869"
      ]
     },
     "execution_count": 57,
     "metadata": {},
     "output_type": "execute_result"
    }
   ],
   "source": [
    "second_iter_list = [second_iter_1,second_iter_2,second_iter_3,second_iter_4]\n",
    "for i in range(4):\n",
    "    conclusion_2nd_iter.loc[i] = second_iter_list[i]\n",
    "conclusion_2nd_iter"
   ]
  },
  {
   "cell_type": "markdown",
   "id": "362ab1d9",
   "metadata": {},
   "source": [
    "### 3rd iteration: Gridsearch and handle overfitting"
   ]
  },
  {
   "cell_type": "code",
   "execution_count": null,
   "id": "5261cf74",
   "metadata": {},
   "outputs": [],
   "source": []
  },
  {
   "cell_type": "markdown",
   "id": "896bfb80",
   "metadata": {},
   "source": [
    "### 4th iteration: Other classifier"
   ]
  },
  {
   "cell_type": "code",
   "execution_count": null,
   "id": "bf8efd72",
   "metadata": {},
   "outputs": [],
   "source": []
  }
 ],
 "metadata": {
  "kernelspec": {
   "display_name": "Python 3 (ipykernel)",
   "language": "python",
   "name": "python3"
  },
  "language_info": {
   "codemirror_mode": {
    "name": "ipython",
    "version": 3
   },
   "file_extension": ".py",
   "mimetype": "text/x-python",
   "name": "python",
   "nbconvert_exporter": "python",
   "pygments_lexer": "ipython3",
   "version": "3.9.12"
  }
 },
 "nbformat": 4,
 "nbformat_minor": 5
}
